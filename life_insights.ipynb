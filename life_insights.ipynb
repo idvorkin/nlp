{
 "cells": [
  {
   "cell_type": "code",
   "execution_count": null,
   "metadata": {},
   "outputs": [],
   "source": [
    "import datetime\n",
    "\n",
    "print(datetime.datetime.now().strftime(\"%Y-%m-%d %H:%M:%S\"))"
   ]
  },
  {
   "cell_type": "code",
   "execution_count": null,
   "metadata": {},
   "outputs": [],
   "source": [
    "import life\n",
    "import pandas as pd\n",
    "import matplotlib.pyplot as plt\n",
    "import plotly.express as px\n",
    "from pathlib import Path\n",
    "\n",
    "reports = life.get_reports_cached()"
   ]
  },
  {
   "cell_type": "code",
   "execution_count": null,
   "metadata": {},
   "outputs": [],
   "source": [
    "def report_to_dict(x: life.GetPychiatristReport):\n",
    "    ret = {}\n",
    "    ret[\"Date\"] = x.Date\n",
    "    ret[\"Anxiety\"] = x.Anxiety.scale_1_to_10\n",
    "    ret[\"Happiness\"] = x.Happiness.scale_1_to_10\n",
    "    # ret[\"Depression\"] = x.Depression.scale_1_to_10\n",
    "    # ret[\"Satisfication\"] = x.Satisfication.scale_1_to_10\n",
    "    # ret[\"Mania\"] =  x.Mania.scale_1_to_10\n",
    "    return ret\n",
    "\n",
    "\n",
    "# sample.Anxiety.scale_1_to_10\n",
    "\n",
    "# set default figure size for matplotlib\n",
    "plt.rcParams[\"figure.figsize\"] = (20, 5)\n",
    "df_original = pd.DataFrame.from_records([report_to_dict(r) for r in reports])"
   ]
  },
  {
   "cell_type": "code",
   "execution_count": null,
   "metadata": {},
   "outputs": [],
   "source": [
    "# df = df_original[df_original [\"Date\"] < \"2015-01-01\"]\n",
    "df = df_original\n",
    "df = df.set_index(\"Date\")\n",
    "# smooth out the data\n",
    "# df = df.rolling(7).mean()\n",
    "# resample the data with a mean\n",
    "\n",
    "time_unit = \"M\"\n",
    "df_unit_time = (\n",
    "    df.resample(time_unit)\n",
    "    .count()\n",
    "    .rename(columns={\"Anxiety\": \"Count\"})\n",
    "    .drop(columns=[\"Happiness\"])\n",
    ")\n",
    "# unit time is upto 30, so divide by 30 and convert to an int percentage\n",
    "df_unit_time[\"Percent\"] = (100 * df_unit_time[\"Count\"] / 30).astype(int)\n",
    "df_unit_time.plot(title=f\"Compliance by {time_unit}\", y=\"Percent\")\n",
    "\n",
    "# add veritcal lines for major for every year\n",
    "for year in range(2013, 2024):\n",
    "    plt.axvline(x=f\"{year}-01-01\", color=\"red\", linestyle=\"--\")\n",
    "\n",
    "# Add horizontal lines for 2,4,6,8\n",
    "for i in [25, 50, 75, 100]:\n",
    "    plt.axhline(y=i, color=\"green\", linestyle=\"--\")\n",
    "\n",
    "\n",
    "df = df.resample(time_unit).mean()\n",
    "df.rolling(3).mean().plot(title=f\"Mental Health Over Time by {time_unit}\")\n",
    "\n",
    "for year in range(2013, 2024):\n",
    "    plt.axvline(x=f\"{year}-01-01\", color=\"red\", linestyle=\"--\")\n",
    "\n",
    "for i in range(3, 8, 1):\n",
    "    plt.axhline(y=i, color=\"green\", linestyle=\"--\")\n",
    "\n",
    "\n",
    "df = df.resample(time_unit).mean()\n",
    "df.rolling(2).mean().plot(title=f\"Happiness Over Time by {time_unit}\", y=\"Happiness\")\n",
    "\n",
    "for year in range(2013, 2024):\n",
    "    plt.axvline(x=f\"{year}-01-01\", color=\"red\", linestyle=\"--\")\n",
    "\n",
    "for i in range(4, 8, 1):\n",
    "    plt.axhline(y=i, color=\"green\", linestyle=\"--\")\n",
    "\n",
    "df = df.resample(time_unit).mean()\n",
    "df.rolling(2).mean().plot(title=f\"Anxiety Over Time by {time_unit}\", y=\"Anxiety\")\n",
    "\n",
    "\n",
    "# add veritcal lines for major for every year\n",
    "for year in range(2013, 2024):\n",
    "    plt.axvline(x=f\"{year}-01-01\", color=\"red\", linestyle=\"--\")\n",
    "\n",
    "for i in range(3, 7, 1):\n",
    "    plt.axhline(y=i, color=\"green\", linestyle=\"--\")"
   ]
  },
  {
   "cell_type": "code",
   "execution_count": null,
   "metadata": {},
   "outputs": [],
   "source": [
    "px.line(df, y=\"Happiness\")\n",
    "df = px.data.gapminder().query(\"country=='Canada'\")\n",
    "fig = px.line(df, x=\"year\", y=\"lifeExp\", title=\"Life expectancy in Canada\")\n",
    "fig.show()"
   ]
  },
  {
   "cell_type": "code",
   "execution_count": null,
   "metadata": {},
   "outputs": [],
   "source": [
    "# Lets repivot just happiness\n",
    "df = df_original.set_index(\"Date\")\n",
    "df = df.resample(\"W\").mean()\n",
    "df = df.rolling(3, center=True).mean()  # TODO TWEAK HOW W EDO THE Smoothing\n",
    "df[\"Year\"] = df.index.year\n",
    "df[\"Week\"] = df.index.isocalendar().week\n",
    "\n",
    "# Drop any metric below 1\n",
    "df = df[df.Happiness > 1]  # Drop outliers\n",
    "df = df[df.Anxiety > 1]  # Drop outliers\n",
    "\n",
    "# df[\"Day\"] = df.index.dayofyear\n",
    "# df[df.Year == 2022].sort_values\n",
    "# Last years at Meta\n",
    "df = df[df.Year > 2012]\n",
    "df = df[df.Year < 2017]\n",
    "\n",
    "\n",
    "metric = \"Anxiety\"\n",
    "df2 = df.pivot_table(index=\"Week\", columns=\"Year\", values=metric)\n",
    "df2.plot(title=metric)\n",
    "\n",
    "# add veritcal lines for major for every year\n",
    "for week in [13, 26, 39]:\n",
    "    plt.axvline(x=week, color=\"red\", linestyle=\"--\")\n",
    "\n",
    "for i in range(3, 7, 1):\n",
    "    plt.axhline(y=i, color=\"green\", linestyle=\"--\")\n",
    "\n",
    "# df2"
   ]
  },
  {
   "cell_type": "code",
   "execution_count": null,
   "metadata": {},
   "outputs": [],
   "source": [
    "def report_to_dict(x: life.GetPychiatristReport):\n",
    "    ret = {}\n",
    "    ret[\"Date\"] = x.Date\n",
    "    ret[\"Anxiety\"] = x.Anxiety.scale_1_to_10\n",
    "    ret[\"Happiness\"] = x.Happiness.scale_1_to_10\n",
    "    ret[\"Depression\"] = x.Depression.scale_1_to_10\n",
    "    ret[\"Satisfication\"] = x.Satisfication.scale_1_to_10\n",
    "    # ret[\"Mania\"] =  x.Mania.scale_1_to_10\n",
    "    return ret\n",
    "\n",
    "\n",
    "# sample.Anxiety.scale_1_to_10\n",
    "\n",
    "# set default figure size for matplotlib\n",
    "# df_original =  pd.DataFrame.from_records([report_to_dict(r) for r in reports])\n",
    "r = reports[380]\n",
    "[p.Name for p in r.PeopleInEntry]"
   ]
  },
  {
   "cell_type": "code",
   "execution_count": null,
   "metadata": {},
   "outputs": [],
   "source": [
    "rs = [{\"date\": r.Date, \"People\": [p.Name for p in r.PeopleInEntry]} for r in reports]\n",
    "rs[20]\n",
    "\n",
    "\n",
    "def to_person_sentiment(r):\n",
    "    row = {\"date\": r.Date}\n",
    "    for p in r.PeopleInEntry:\n",
    "        row[p.Name] = p.Sentiment.lower()\n",
    "    return row\n",
    "\n",
    "\n",
    "rs = [to_person_sentiment(r) for r in reports]"
   ]
  },
  {
   "cell_type": "code",
   "execution_count": null,
   "metadata": {},
   "outputs": [],
   "source": [
    "# Create a dataframe from the rs list\n",
    "df = pd.DataFrame(rs)\n",
    "\n",
    "# fitler to post Meta\n",
    "df = df.loc[(df.date > \"2011\") & (df.date < \"2013\")]\n",
    "# df = df.loc[df.date == \"2013\"]\n",
    "display(df)\n",
    "\n",
    "# Get columns iwht the most data.\n",
    "na_count = df.isna().sum()\n",
    "# Sort the columns by number of missing values and select the top 30\n",
    "top_30_columns = na_count.nsmallest(30).index\n",
    "\n",
    "# Select only the top 30 columns in the DataFrame\n",
    "df_filtered = df[top_30_columns]\n",
    "\n",
    "print(f\"From: {df.date.min()} to {df.date.max()}\")\n",
    "for column in df_filtered.columns[1:]:\n",
    "    print(f\"For {column}\")\n",
    "    print(df_filtered[column].value_counts(normalize=True)[:5])"
   ]
  },
  {
   "cell_type": "code",
   "execution_count": null,
   "metadata": {},
   "outputs": [],
   "source": [
    "df = pd.DataFrame([life.to_people_sentiment_dict(r) for r in reports]).set_index(\"date\")"
   ]
  },
  {
   "cell_type": "code",
   "execution_count": null,
   "metadata": {},
   "outputs": [],
   "source": [
    "df"
   ]
  },
  {
   "cell_type": "code",
   "execution_count": null,
   "metadata": {},
   "outputs": [],
   "source": [
    "df.tori.value_counts()"
   ]
  },
  {
   "cell_type": "code",
   "execution_count": null,
   "metadata": {},
   "outputs": [],
   "source": [
    "def g1(r):\n",
    "    nPositive = len(r[r == \"positive\"])\n",
    "    # nNegative = len(r[r == \"negative\"])\n",
    "    nNeutral = len(r[r == \"neutral\"]) + len(r[r == \"mixed\"])\n",
    "    nTotal = len(r)\n",
    "    return nPositive / (nTotal - nNeutral)\n",
    "\n",
    "\n",
    "df.groupby(pd.Grouper(freq=\"Y\"))[\"pablo\"].apply(g1).plot()\n",
    "# df.groupby(pd.Grouper(freq=\"Y\"))[\"tori\"].value_counts()\n",
    "\n",
    "# for (key,group) in df.groupby(pd.Grouper(freq=\"Y\"))[\"tori\"]:\n",
    "#   ic(group.value_counts())"
   ]
  },
  {
   "cell_type": "code",
   "execution_count": null,
   "metadata": {},
   "outputs": [],
   "source": [
    "df_messages = pd.read_pickle(Path.home() / \"gits/nlp/df_messages.pickle.zip\")"
   ]
  },
  {
   "cell_type": "code",
   "execution_count": null,
   "metadata": {},
   "outputs": [],
   "source": [
    "df_messages.columns"
   ]
  },
  {
   "cell_type": "code",
   "execution_count": null,
   "metadata": {},
   "outputs": [],
   "source": [
    "df_messages.to_phone.value_counts()"
   ]
  },
  {
   "cell_type": "code",
   "execution_count": null,
   "metadata": {},
   "outputs": [],
   "source": [
    "df_messages[df_messages.to_phone == \"+12065383855\"]"
   ]
  },
  {
   "cell_type": "code",
   "execution_count": null,
   "metadata": {},
   "outputs": [],
   "source": [
    "# Messsages I sent, but uniquify group messages to avoid double counts\n",
    "# df_messages.set_index('date',inplace=True)\n",
    "df_sent_messages = df_messages[df_messages[\"is_from_me\"] == 1].drop_duplicates(\n",
    "    subset=\"text\"\n",
    ")\n",
    "\n",
    "# Only Keep messages from senders I send to post\n",
    "top_receivers = df_sent_messages.to_phone.value_counts().head(10).index[2:]\n",
    "df_sent_messages = df_sent_messages[df_sent_messages.to_phone.isin(top_receivers)]\n",
    "\n",
    "monthly_counts = (\n",
    "    df_sent_messages.groupby([pd.Grouper(freq=\"M\"), \"to_phone\"])\n",
    "    .size()\n",
    "    .unstack(fill_value=0)\n",
    ")\n",
    "monthly_counts.plot()"
   ]
  },
  {
   "cell_type": "code",
   "execution_count": null,
   "metadata": {},
   "outputs": [],
   "source": [
    "df_sent_messages.set_index(\"date\").resample(\"M\").size().plot()"
   ]
  },
  {
   "cell_type": "code",
   "execution_count": null,
   "metadata": {},
   "outputs": [],
   "source": [
    "monthly_counts = (\n",
    "    df_sent_messages.set_index(\"date\")\n",
    "    .groupby([pd.Grouper(freq=\"M\"), \"to_phone\"])\n",
    "    .size()\n",
    ")  # .unstack(level=[1,2], fill_value=0)"
   ]
  },
  {
   "cell_type": "code",
   "execution_count": null,
   "metadata": {},
   "outputs": [],
   "source": [
    "monthly_counts"
   ]
  },
  {
   "cell_type": "code",
   "execution_count": null,
   "metadata": {},
   "outputs": [],
   "source": [
    "monthly_counts.unstack()"
   ]
  },
  {
   "cell_type": "code",
   "execution_count": null,
   "metadata": {},
   "outputs": [],
   "source": [
    "df_sent_messages = df_messages[df_messages[\"is_from_me\"] == 1].drop_duplicates(\n",
    "    subset=\"text\"\n",
    ")\n",
    "# df_sent_messages = df_sent_messages.set_index(\"date\")\n",
    "df_sent_messages.resample(\"M\").size().loc[\"2020\"].plot()"
   ]
  },
  {
   "cell_type": "code",
   "execution_count": null,
   "metadata": {},
   "outputs": [],
   "source": []
  }
 ],
 "metadata": {
  "kernelspec": {
   "display_name": "Python 3 (ipykernel)",
   "language": "python",
   "name": "python3"
  },
  "language_info": {
   "codemirror_mode": {
    "name": "ipython",
    "version": 3
   },
   "file_extension": ".py",
   "mimetype": "text/x-python",
   "name": "python",
   "nbconvert_exporter": "python",
   "pygments_lexer": "ipython3",
   "version": "3.11.6"
  }
 },
 "nbformat": 4,
 "nbformat_minor": 4
}

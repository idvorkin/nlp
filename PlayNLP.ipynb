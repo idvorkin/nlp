{
 "cells": [
  {
   "cell_type": "markdown",
   "metadata": {},
   "source": [
    "# Explore NLP against my journal entries\n",
    "\n",
    "This notebook allows me to play with NLP concepts using my personal journals.\n",
    "I've been writing personal journal entries ala 750 words a day for several years."
   ]
  },
  {
   "cell_type": "code",
   "execution_count": null,
   "metadata": {},
   "outputs": [],
   "source": [
    "\"\"\"\n",
    "from sklearn.datasets import fetch_openml\n",
    "from sklearn import datasets, svm, metrics\n",
    "from pandas import DataFrame\n",
    "import matplotlib as mpl\n",
    "\"\"\"\n",
    "\n",
    "from typing import List, Tuple\n",
    "from dataclasses import dataclass\n",
    "import pandas as pd\n",
    "\n",
    "import matplotlib.pyplot as plt\n",
    "import matplotlib\n",
    "\n",
    "import glob\n",
    "import os\n",
    "from pathlib import Path\n",
    "\n",
    "# get nltk and corpus\n",
    "import nltk\n",
    "from nltk.corpus import stopwords\n",
    "\n",
    "# get scapy and corpus\n",
    "import spacy\n",
    "import time\n",
    "from functools import lru_cache\n",
    "from matplotlib import animation, rc\n",
    "from IPython.display import HTML\n",
    "from datetime import timedelta\n",
    "import itertools\n",
    "import importlib\n",
    "import igor_journal\n",
    "from datetime import date\n",
    "\n",
    "# python won't reload an already imported library\n",
    "# since co-editting files in another directory, need to do a reload\n",
    "importlib.reload(igor_journal)\n",
    "from icecream import ic"
   ]
  },
  {
   "cell_type": "code",
   "execution_count": null,
   "metadata": {},
   "outputs": [],
   "source": [
    "# This function is in the first block so you don't\n",
    "# recreate it willy nilly, as it includes a cache.\n",
    "\n",
    "nltk.download(\"stopwords\")\n",
    "\n",
    "\n",
    "@lru_cache(maxsize=4)\n",
    "def get_nlp_model(model: str):\n",
    "    start_time = time.time()\n",
    "    print(f\"Loading Model {model}\")\n",
    "    nlp = spacy.load(model)  # python -m spacy download en_core_web_lg\n",
    "    spacy.prefer_gpu()  # This will be cool if/when it happens.\n",
    "    duration = time.time() - start_time\n",
    "    print(f\"Took: {int(duration)}\")\n",
    "    return nlp"
   ]
  },
  {
   "cell_type": "markdown",
   "metadata": {
    "tags": []
   },
   "source": [
    "# Build corpus from my journal in igor2/750words"
   ]
  },
  {
   "cell_type": "code",
   "execution_count": null,
   "metadata": {},
   "outputs": [],
   "source": [
    "# make the plot wider\n",
    "height_in_inches = 8\n",
    "matplotlib.rc(\"figure\", figsize=(2 * height_in_inches, height_in_inches))"
   ]
  },
  {
   "cell_type": "markdown",
   "metadata": {},
   "source": [
    "### Load simple corpus for my journal"
   ]
  },
  {
   "cell_type": "code",
   "execution_count": null,
   "metadata": {},
   "outputs": [],
   "source": [
    "corpus = igor_journal.LoadCorpus(after=date(2022, 1, 1))\n",
    "print(f\"initial words {len(corpus.initial_words)} remaining words {len(corpus.words)}\")"
   ]
  },
  {
   "cell_type": "code",
   "execution_count": null,
   "metadata": {},
   "outputs": [],
   "source": [
    "# Could use nltk frequency distribution plot, but better off building our own.\n",
    "# fd = nltk.FreqDist(words)\n",
    "# fd.plot(50, percents=True)\n",
    "# Can also use scikit learn CountVectorizor"
   ]
  },
  {
   "cell_type": "code",
   "execution_count": null,
   "metadata": {},
   "outputs": [],
   "source": [
    "# Same as NLTK FreqDist, except normalized, includes cumsum, and colors\n",
    "def GraphWordDistribution(words, title=\"\", skip=0, length=50, includeCDF=True) -> None:\n",
    "    def GetPDFCDF(words):\n",
    "        def ToPercent(x: float) -> float:\n",
    "            return x * 100\n",
    "\n",
    "        # NOTE: No point creating a full data frame when only using a single column.\n",
    "        pdf = pd.Series(words).value_counts(normalize=True).apply(ToPercent)\n",
    "        cdf = pdf.cumsum()\n",
    "        return (pdf, cdf)\n",
    "\n",
    "    def PlotOnAxis(series, ax, label: str, color: str):\n",
    "        # RANT: Why is MPL so confusing? The OO interface vs the stateful interface, GRAH!!\n",
    "        # The random non-obvious calls.\n",
    "        # GRAH!!!\n",
    "\n",
    "        ax.legend(label.split())\n",
    "        ax.plot(series, color=color)\n",
    "\n",
    "        # RANT: Why no YAxis.set_labal_params()? E.g.\n",
    "        #                 ax.yaxis.set_label_params(label, color=color)\n",
    "        ax.set_ylabel(label, color=color)\n",
    "        ax.yaxis.set_tick_params(labelcolor=color)\n",
    "\n",
    "        # technically all the X axis paramaters are duplicated since we \"twinned the X paramater\"\n",
    "        ax.xticks = range(len(series))\n",
    "\n",
    "        # RANT: rot can be set on plt.plot(), but not on axes.plot()\n",
    "        ax.xaxis.set_tick_params(rotation=90)\n",
    "\n",
    "    # NOTE: can make graph prettier with styles E.g.\n",
    "    # with plt.style.context(\"ggplot\"):\n",
    "    fig, ax = plt.subplots(1)\n",
    "\n",
    "    ax.set_title(title)\n",
    "    ax.grid(True)\n",
    "\n",
    "    # make pdf first axes, and cdf second axes.\n",
    "    ax_pdf, ax_cdf = (ax, ax.twinx())\n",
    "    color_pdf, color_cdf = (\"green\", \"blue\")\n",
    "    pdf, cdf = GetPDFCDF(words)\n",
    "\n",
    "    PlotOnAxis(pdf[skip : skip + length], ax_pdf, label=\"PDF*100\", color=color_pdf)\n",
    "    PlotOnAxis(cdf[skip : skip + length], ax_cdf, label=\"CDF*100\", color=color_cdf)\n",
    "\n",
    "\n",
    "GraphWordDistribution(corpus.words, title=\"Normalized Word Distribution\")"
   ]
  },
  {
   "cell_type": "code",
   "execution_count": null,
   "metadata": {},
   "outputs": [],
   "source": [
    "skip = 10\n",
    "GraphWordDistribution(\n",
    "    corpus.words, skip=skip, length=75, title=f\"Distribution without top {skip} words\"\n",
    ")"
   ]
  },
  {
   "cell_type": "code",
   "execution_count": null,
   "metadata": {},
   "outputs": [],
   "source": [
    "# wordcloud is non-deterministic, which is bizarre.\n",
    "# from wordcloud import WordCloud\n",
    "# wordcloud = WordCloud(max_font_size=50, max_words=100, background_color=\"white\", stopwords=None).generate(\"\".join(words))\n",
    "# plt.imshow(wordcloud,  interpolation='bilinear')"
   ]
  },
  {
   "cell_type": "markdown",
   "metadata": {},
   "source": [
    "# Play with POS tagging and lemmatisation"
   ]
  },
  {
   "cell_type": "code",
   "execution_count": null,
   "metadata": {},
   "outputs": [],
   "source": [
    "# !python -m spacy download en_core_web_lg\n",
    "from igor_journal import Corpus, LoadCorpus, DocForCorpus\n",
    "\n",
    "nlp = get_nlp_model(\"en_core_web_lg\")\n",
    "nlp.max_length = 100 * 1000 * 1000\n",
    "\n",
    "\n",
    "def GetInterestingWords(pos: str, doc=None, corpus: Corpus = None):\n",
    "    interesting_pos = pos\n",
    "    if doc == None:\n",
    "        doc = DocForCorpus(nlp, corpus)\n",
    "\n",
    "    interesting_pos_set = set(interesting_pos.split())\n",
    "    interesting = [token for token in doc if token.pos_ in interesting_pos_set]\n",
    "    interesting_words = [token.lemma_ for token in interesting]\n",
    "    return interesting_words\n",
    "\n",
    "\n",
    "def GraphPoSForDoc(pos: str, doc=None, corpus=None):\n",
    "\n",
    "    GraphWordDistribution(\n",
    "        GetInterestingWords(pos, doc, corpus=corpus),\n",
    "        title=f\"Distribution of {pos} on {corpus.date_range}\",\n",
    "        skip=0,\n",
    "        length=20,\n",
    "    )\n",
    "\n",
    "\n",
    "def GraphScratchForCorpus(pos: str = \"NOUN VERB ADJ ADV\", corpus: Corpus = None):\n",
    "    doc = DocForCorpus(nlp, corpus)\n",
    "    GraphPoSForDoc(pos, doc, corpus)"
   ]
  },
  {
   "cell_type": "code",
   "execution_count": null,
   "metadata": {},
   "outputs": [],
   "source": [
    "GraphScratchForCorpus(pos=\"PROPN\", corpus=corpus)"
   ]
  },
  {
   "cell_type": "markdown",
   "metadata": {},
   "source": [
    "# Debugging when stuff goes goofy."
   ]
  },
  {
   "cell_type": "code",
   "execution_count": null,
   "metadata": {},
   "outputs": [],
   "source": [
    "_ = \"\"\"\n",
    "max_to_analyze = 15\n",
    "interesting = [token for token in doc if token.tag_ == \"NNS\"]\n",
    "for token in interesting[:max_to_analyze]:\n",
    "    # print(token.text, token.lemma_, token.pos_, token.tag_, token.dep_, token.shape_, token.is_alpha, token.is_stop)\n",
    "    print(token.text, token.lemma_, token.pos_, token.tag_, token.dep_)\n",
    "\n",
    "# Parts of speech: https://spacy.io/usage/linguistic-features\n",
    "GraphWordDistribution([token.pos_ for token in doc], title=f\"POS Distribution on {corpus_path}\")\n",
    "# interesting = [ token for token in doc if token.pos_ != \"PUNCT\" and token.pos_ != \"SYM\" and len(token.text) > 3]\n",
    "\"\"\""
   ]
  },
  {
   "cell_type": "markdown",
   "metadata": {},
   "source": [
    "### Visualizing the \"Thought Distribution\" over time.\n",
    "* A] Sentiment over time. Graph valence as line graph time series\n",
    "    (TBD: Use cloud service to analyze each file)\n",
    "\n",
    "* B] Graph a bar chart of Proper noun trending over time, have it update per corpus file.\n",
    " * Build a data frame of word frequency \"Proper Noun\"x\"Corpus\"\n",
    " * Graph update every second."
   ]
  },
  {
   "cell_type": "code",
   "execution_count": null,
   "metadata": {},
   "outputs": [],
   "source": [
    "def MakePDF(words, name):\n",
    "    def ToPercent(x: float) -> float:\n",
    "        return x * 100\n",
    "\n",
    "    return pd.Series(words, name=name).value_counts(normalize=True).apply(ToPercent)\n",
    "\n",
    "\n",
    "def PathToFriendlyTitle(path: str):\n",
    "    path = path.split(\"/\")[-1]\n",
    "    if \"export-\" in path:\n",
    "        return path.split(\"export-\")[-1]\n",
    "    else:\n",
    "        return path"
   ]
  },
  {
   "cell_type": "code",
   "execution_count": null,
   "metadata": {},
   "outputs": [],
   "source": [
    "# corpus_paths = corpus_path_months[2018]+corpus_path_months[2019]\n",
    "# corpus_paths = corpus_path_months[2018] + corpus_path_months[2019]\n",
    "import datetime\n",
    "\n",
    "top_words_to_skip, count_words = 0, 20\n",
    "count_months = 10 * 12\n",
    "pdfs = [\n",
    "    MakePDF(\n",
    "        GetInterestingWords(\n",
    "            \"PROPN\",\n",
    "            corpus=LoadCorpus(\n",
    "                before=datetime.datetime.now().date() - timedelta(days=30 * i - 30),\n",
    "                after=datetime.datetime.now().date() - timedelta(days=30 * i),\n",
    "            ),\n",
    "        ),\n",
    "        f\"{datetime.datetime.now().date()-timedelta(days=30*i)}\",\n",
    "    )\n",
    "    for i in range(count_months, 0, -1)\n",
    "]\n",
    "\n",
    "# TODO: Why can't we use the join - gives an error.\n",
    "# wordByTimespan = pd.DataFrame().join(pdfs, how=\"outer\", sort=False)\n",
    "wordByTimespan = pd.DataFrame()\n",
    "for pdf in pdfs:\n",
    "    wordByTimespan = wordByTimespan.join(pdf, how=\"outer\")\n",
    "\n",
    "# Sort by sum(word frequency) over all corpus\n",
    "# I  suspect it'd be interesting to sort by TF*IDF because it'll make words that are present\n",
    "# only in a few months get a boost.\n",
    "wordByTimespan[\"word_frequency\"] = wordByTimespan.sum(skipna=True, axis=\"columns\")\n",
    "wordByTimespan = wordByTimespan.sort_values(\"word_frequency\", ascending=False)\n",
    "\n",
    "\n",
    "# Remove total column\n",
    "wordByTimespan = wordByTimespan.iloc[:, :-1]\n",
    "\n",
    "print(f\"skipping:{top_words_to_skip}, count:{count_words} \")\n",
    "\n",
    "# wordByTimespan.iloc[:50, :].plot( kind=\"bar\", subplots=False, legend=False, figsize=(15, 14), sharey=True )\n",
    "wordByTimespan.iloc[top_words_to_skip : top_words_to_skip + count_words, :].T.plot(\n",
    "    kind=\"bar\", subplots=True, legend=False, figsize=(15, 9), sharey=True\n",
    ")\n",
    "# wordByTimespan.iloc[:13, :].T.plot( kind=\"bar\", subplots=False, legend=True, figsize=(15, 14), sharey=True )"
   ]
  },
  {
   "cell_type": "code",
   "execution_count": null,
   "metadata": {},
   "outputs": [],
   "source": [
    "top_words_to_skip, count_words = 5, 20\n",
    "top_word_by_year = wordByTimespan.iloc[\n",
    "    top_words_to_skip : top_words_to_skip + count_words, :\n",
    "][::-1]\n",
    "# top_word_by_year = wordByTimespan.iloc[:15,:][::-1] # the -1 on the end reverse the count\n",
    "\n",
    "anim_fig_size = (16, 20)\n",
    "fig = plt.figure()\n",
    "ax = fig.add_subplot(1, 1, 1)\n",
    "ax = top_word_by_year.iloc[:, 0].plot(\n",
    "    title=f\"Title Over Written\", figsize=anim_fig_size, kind=\"barh\"\n",
    ")\n",
    "\n",
    "animation.patches = ax.patches\n",
    "loop_colors = itertools.cycle(\"bgrcmk\")\n",
    "animation.colors = list(itertools.islice(loop_colors, len(animation.patches)))\n",
    "\n",
    "\n",
    "def animate(\n",
    "    i,\n",
    "):\n",
    "    # OMG: That was impossible to find!!!\n",
    "    # Turns out every time you call plot, more patches (bars) are added to graph.  You need to remove them, which is very non-obvious.\n",
    "    # https://stackoverflow.com/questions/49791848/matplotlib-remove-all-patches-from-figure\n",
    "    [p.remove() for p in reversed(animation.patches)]\n",
    "    top_word_by_year.iloc[:, i].plot(\n",
    "        title=f\"Distribution {top_word_by_year.columns[i]}\",\n",
    "        kind=\"barh\",\n",
    "        color=animation.colors,\n",
    "        xlim=(0, 10),\n",
    "    )\n",
    "    return (animation.patches,)\n",
    "\n",
    "\n",
    "anim = animation.FuncAnimation(\n",
    "    fig,\n",
    "    animate,\n",
    "    frames=len(top_word_by_year.columns),\n",
    "    interval=timedelta(seconds=1).seconds * 1000,\n",
    "    blit=False,\n",
    ")\n",
    "HTML(anim.to_html5_video())"
   ]
  },
  {
   "cell_type": "code",
   "execution_count": null,
   "metadata": {},
   "outputs": [],
   "source": [
    "dmo = \"\"\"\n",
    "corpus_path = \"~/gits/igor2/750words/2019-06-*md\"\n",
    "corpus = LoadCorpus(corpus_path)\n",
    "doc = DocForCorpus(nlp, corpus)\n",
    "for t in doc[400:600]:\n",
    "print(f\"{t} {t.lemma_} {t.pos_}\")\n",
    "\"\"\"\n",
    "from spacy import displacy\n",
    "\n",
    "displacy.render(nlp(\"Igor wonders if Ray is working too much\"))"
   ]
  },
  {
   "cell_type": "code",
   "execution_count": null,
   "metadata": {},
   "outputs": [],
   "source": []
  },
  {
   "cell_type": "code",
   "execution_count": null,
   "metadata": {},
   "outputs": [],
   "source": []
  },
  {
   "cell_type": "code",
   "execution_count": null,
   "metadata": {},
   "outputs": [],
   "source": []
  },
  {
   "cell_type": "code",
   "execution_count": null,
   "metadata": {},
   "outputs": [],
   "source": []
  },
  {
   "cell_type": "code",
   "execution_count": null,
   "metadata": {},
   "outputs": [],
   "source": []
  }
 ],
 "metadata": {
  "kernelspec": {
   "display_name": "Python 3",
   "language": "python",
   "name": "python3"
  },
  "language_info": {
   "codemirror_mode": {
    "name": "ipython",
    "version": 3
   },
   "file_extension": ".py",
   "mimetype": "text/x-python",
   "name": "python",
   "nbconvert_exporter": "python",
   "pygments_lexer": "ipython3",
   "version": "3.9.8"
  }
 },
 "nbformat": 4,
 "nbformat_minor": 4
}

{
 "cells": [
  {
   "cell_type": "code",
   "execution_count": 1,
   "id": "d38ea26d-0f88-438c-88c7-603dadb70198",
   "metadata": {},
   "outputs": [],
   "source": [
    "import igor_journal"
   ]
  },
  {
   "cell_type": "code",
   "execution_count": 2,
   "id": "1708ebf3-b231-4522-b0d6-a4d64699f31c",
   "metadata": {},
   "outputs": [],
   "source": [
    "from bertopic import BERTopic\n",
    "from sklearn.feature_extraction.text import CountVectorizer\n",
    "from sklearn.datasets import fetch_20newsgroups"
   ]
  },
  {
   "cell_type": "code",
   "execution_count": 22,
   "id": "00565f5d-de11-4207-b531-f802eb0239e2",
   "metadata": {},
   "outputs": [
    {
     "name": "stderr",
     "output_type": "stream",
     "text": [
      "ic| corpus_for: datetime.datetime(2012, 1, 31, 0, 0)\n",
      "ic| corpus_for: datetime.datetime(2012, 3, 1, 0, 0)\n",
      "ic| corpus_for: datetime.datetime(2012, 3, 31, 0, 0)\n",
      "ic| corpus_for: datetime.datetime(2012, 4, 30, 0, 0)\n",
      "ic| corpus_for: datetime.datetime(2012, 5, 30, 0, 0)\n",
      "ic| corpus_for: datetime.datetime(2012, 6, 29, 0, 0)\n",
      "ic| corpus_for: datetime.datetime(2012, 7, 29, 0, 0)\n",
      "ic| corpus_for: datetime.datetime(2012, 8, 28, 0, 0)\n",
      "ic| corpus_for: datetime.datetime(2012, 9, 27, 0, 0)\n",
      "ic| corpus_for: datetime.datetime(2012, 10, 27, 0, 0)\n",
      "ic| corpus_for: datetime.datetime(2012, 11, 26, 0, 0)\n",
      "ic| corpus_for: datetime.datetime(2012, 12, 26, 0, 0)\n",
      "ic| corpus_for: datetime.datetime(2013, 1, 25, 0, 0)\n",
      "ic| corpus_for: datetime.datetime(2013, 2, 24, 0, 0)\n",
      "ic| corpus_for: datetime.datetime(2013, 3, 26, 0, 0)\n",
      "ic| corpus_for: datetime.datetime(2013, 4, 25, 0, 0)\n",
      "ic| corpus_for: datetime.datetime(2013, 5, 25, 0, 0)\n",
      "ic| corpus_for: datetime.datetime(2013, 6, 24, 0, 0)\n",
      "ic| corpus_for: datetime.datetime(2013, 7, 24, 0, 0)\n",
      "ic| corpus_for: datetime.datetime(2013, 8, 23, 0, 0)\n",
      "ic| corpus_for: datetime.datetime(2013, 9, 22, 0, 0)\n",
      "ic| corpus_for: datetime.datetime(2013, 10, 22, 0, 0)\n",
      "ic| corpus_for: datetime.datetime(2013, 11, 21, 0, 0)\n",
      "ic| corpus_for: datetime.datetime(2013, 12, 21, 0, 0)\n",
      "ic| corpus_for: datetime.datetime(2014, 1, 20, 0, 0)\n",
      "ic| corpus_for: datetime.datetime(2014, 2, 19, 0, 0)\n",
      "ic| corpus_for: datetime.datetime(2014, 3, 21, 0, 0)\n",
      "ic| corpus_for: datetime.datetime(2014, 4, 20, 0, 0)\n",
      "ic| corpus_for: datetime.datetime(2014, 5, 20, 0, 0)\n",
      "ic| corpus_for: datetime.datetime(2014, 6, 19, 0, 0)\n",
      "ic| corpus_for: datetime.datetime(2014, 7, 19, 0, 0)\n",
      "ic| corpus_for: datetime.datetime(2014, 8, 18, 0, 0)\n",
      "ic| corpus_for: datetime.datetime(2014, 9, 17, 0, 0)\n",
      "ic| corpus_for: datetime.datetime(2014, 10, 17, 0, 0)\n",
      "ic| corpus_for: datetime.datetime(2014, 11, 16, 0, 0)\n",
      "ic| corpus_for: datetime.datetime(2014, 12, 16, 0, 0)\n",
      "ic| corpus_for: datetime.datetime(2015, 1, 15, 0, 0)\n",
      "ic| corpus_for: datetime.datetime(2015, 2, 14, 0, 0)\n",
      "ic| corpus_for: datetime.datetime(2015, 3, 16, 0, 0)\n",
      "ic| corpus_for: datetime.datetime(2015, 4, 15, 0, 0)\n",
      "ic| corpus_for: datetime.datetime(2015, 5, 15, 0, 0)\n",
      "ic| corpus_for: datetime.datetime(2015, 6, 14, 0, 0)\n",
      "ic| corpus_for: datetime.datetime(2015, 7, 14, 0, 0)\n",
      "ic| corpus_for: datetime.datetime(2015, 8, 13, 0, 0)\n",
      "ic| corpus_for: datetime.datetime(2015, 9, 12, 0, 0)\n",
      "ic| corpus_for: datetime.datetime(2015, 10, 12, 0, 0)\n",
      "ic| corpus_for: datetime.datetime(2015, 11, 11, 0, 0)\n",
      "ic| corpus_for: datetime.datetime(2015, 12, 11, 0, 0)\n",
      "ic| corpus_for: datetime.datetime(2016, 1, 10, 0, 0)\n",
      "ic| corpus_for: datetime.datetime(2016, 2, 9, 0, 0)\n",
      "ic| corpus_for: datetime.datetime(2016, 3, 10, 0, 0)\n",
      "ic| corpus_for: datetime.datetime(2016, 4, 9, 0, 0)\n",
      "ic| corpus_for: datetime.datetime(2016, 5, 9, 0, 0)\n",
      "ic| corpus_for: datetime.datetime(2016, 6, 8, 0, 0)\n",
      "ic| corpus_for: datetime.datetime(2016, 7, 8, 0, 0)\n",
      "ic| corpus_for: datetime.datetime(2016, 8, 7, 0, 0)\n",
      "ic| corpus_for: datetime.datetime(2016, 9, 6, 0, 0)\n",
      "ic| corpus_for: datetime.datetime(2016, 10, 6, 0, 0)\n",
      "ic| corpus_for: datetime.datetime(2016, 11, 5, 0, 0)\n",
      "ic| corpus_for: datetime.datetime(2016, 12, 5, 0, 0)\n",
      "ic| corpus_for: datetime.datetime(2017, 1, 4, 0, 0)\n",
      "ic| corpus_for: datetime.datetime(2017, 2, 3, 0, 0)\n",
      "ic| corpus_for: datetime.datetime(2017, 3, 5, 0, 0)\n",
      "ic| corpus_for: datetime.datetime(2017, 4, 4, 0, 0)\n",
      "ic| corpus_for: datetime.datetime(2017, 5, 4, 0, 0)\n",
      "ic| corpus_for: datetime.datetime(2017, 6, 3, 0, 0)\n",
      "ic| corpus_for: datetime.datetime(2017, 7, 3, 0, 0)\n",
      "ic| corpus_for: datetime.datetime(2017, 8, 2, 0, 0)\n",
      "ic| corpus_for: datetime.datetime(2017, 9, 1, 0, 0)\n",
      "ic| corpus_for: datetime.datetime(2017, 10, 1, 0, 0)\n",
      "ic| corpus_for: datetime.datetime(2017, 10, 31, 0, 0)\n",
      "ic| corpus_for: datetime.datetime(2017, 11, 30, 0, 0)\n",
      "ic| corpus_for: datetime.datetime(2017, 12, 30, 0, 0)\n",
      "ic| corpus_for: datetime.datetime(2018, 1, 29, 0, 0)\n",
      "ic| corpus_for: datetime.datetime(2018, 2, 28, 0, 0)\n",
      "ic| corpus_for: datetime.datetime(2018, 3, 30, 0, 0)\n",
      "ic| corpus_for: datetime.datetime(2018, 4, 29, 0, 0)\n",
      "ic| corpus_for: datetime.datetime(2018, 5, 29, 0, 0)\n",
      "ic| corpus_for: datetime.datetime(2018, 6, 28, 0, 0)\n",
      "ic| corpus_for: datetime.datetime(2018, 7, 28, 0, 0)\n",
      "ic| corpus_for: datetime.datetime(2018, 8, 27, 0, 0)\n",
      "ic| corpus_for: datetime.datetime(2018, 9, 26, 0, 0)\n",
      "ic| corpus_for: datetime.datetime(2018, 10, 26, 0, 0)\n",
      "ic| corpus_for: datetime.datetime(2018, 11, 25, 0, 0)\n",
      "ic| corpus_for: datetime.datetime(2018, 12, 25, 0, 0)\n",
      "ic| corpus_for: datetime.datetime(2019, 1, 24, 0, 0)\n",
      "ic| corpus_for: datetime.datetime(2019, 2, 23, 0, 0)\n",
      "ic| corpus_for: datetime.datetime(2019, 3, 25, 0, 0)\n",
      "ic| corpus_for: datetime.datetime(2019, 4, 24, 0, 0)\n",
      "ic| corpus_for: datetime.datetime(2019, 5, 24, 0, 0)\n",
      "ic| corpus_for: datetime.datetime(2019, 6, 23, 0, 0)\n",
      "ic| corpus_for: datetime.datetime(2019, 7, 23, 0, 0)\n",
      "ic| corpus_for: datetime.datetime(2019, 8, 22, 0, 0)\n",
      "ic| corpus_for: datetime.datetime(2019, 9, 21, 0, 0)\n",
      "ic| corpus_for: datetime.datetime(2019, 10, 21, 0, 0)\n",
      "ic| corpus_for: datetime.datetime(2019, 11, 20, 0, 0)\n",
      "ic| corpus_for: datetime.datetime(2019, 12, 20, 0, 0)\n",
      "ic| corpus_for: datetime.datetime(2020, 1, 19, 0, 0)\n",
      "ic| corpus_for: datetime.datetime(2020, 2, 18, 0, 0)\n",
      "ic| corpus_for: datetime.datetime(2020, 3, 19, 0, 0)\n",
      "ic| corpus_for: datetime.datetime(2020, 4, 18, 0, 0)\n",
      "ic| corpus_for: datetime.datetime(2020, 5, 18, 0, 0)\n",
      "ic| corpus_for: datetime.datetime(2020, 6, 17, 0, 0)\n",
      "ic| corpus_for: datetime.datetime(2020, 7, 17, 0, 0)\n",
      "ic| corpus_for: datetime.datetime(2020, 8, 16, 0, 0)\n",
      "ic| corpus_for: datetime.datetime(2020, 9, 15, 0, 0)\n",
      "ic| corpus_for: datetime.datetime(2020, 10, 15, 0, 0)\n",
      "ic| corpus_for: datetime.datetime(2020, 11, 14, 0, 0)\n",
      "ic| corpus_for: datetime.datetime(2020, 12, 14, 0, 0)\n",
      "ic| corpus_for: datetime.datetime(2021, 1, 13, 0, 0)\n",
      "ic| corpus_for: datetime.datetime(2021, 2, 12, 0, 0)\n",
      "ic| corpus_for: datetime.datetime(2021, 3, 14, 0, 0)\n",
      "ic| corpus_for: datetime.datetime(2021, 4, 13, 0, 0)\n",
      "ic| corpus_for: datetime.datetime(2021, 5, 13, 0, 0)\n",
      "ic| corpus_for: datetime.datetime(2021, 6, 12, 0, 0)\n",
      "ic| corpus_for: datetime.datetime(2021, 7, 12, 0, 0)\n",
      "ic| corpus_for: datetime.datetime(2021, 8, 11, 0, 0)\n",
      "ic| corpus_for: datetime.datetime(2021, 9, 10, 0, 0)\n",
      "ic| corpus_for: datetime.datetime(2021, 10, 10, 0, 0)\n",
      "ic| corpus_for: datetime.datetime(2021, 11, 9, 0, 0)\n",
      "ic| corpus_for: datetime.datetime(2021, 12, 9, 0, 0)\n",
      "ic| corpus_for: datetime.datetime(2022, 1, 8, 0, 0)\n",
      "ic| corpus_for: datetime.datetime(2022, 2, 7, 0, 0)\n",
      "ic| corpus_for: datetime.datetime(2022, 3, 9, 0, 0)\n",
      "ic| corpus_for: datetime.datetime(2022, 4, 8, 0, 0)\n"
     ]
    },
    {
     "name": "stdout",
     "output_type": "stream",
     "text": [
      "2189\n",
      "22.1 s ± 0 ns per loop (mean ± std. dev. of 1 run, 1 loop each)\n"
     ]
    }
   ],
   "source": [
    "%%timeit -n 1 -r 1\n",
    "# docs = fetch_20newsgroups(subset='all',  remove=('headers', 'footers', 'quotes'))['data']\n",
    "docs = [ \" \".join(igor_journal.JournalEntry(e).body()) for e in  igor_journal.all_entries() ] \n",
    "print (len(docs))"
   ]
  },
  {
   "cell_type": "code",
   "execution_count": 38,
   "id": "bd44c582-1d26-41ad-9e04-cb9683fb85db",
   "metadata": {},
   "outputs": [],
   "source": [
    "# docs\n",
    "topic_model = BERTopic(low_memory=False, min_topic_size=3)\n",
    "topics, probs = 0, 0"
   ]
  },
  {
   "cell_type": "code",
   "execution_count": 39,
   "id": "9b20e491-0bc9-4946-8f5d-d83667fba110",
   "metadata": {},
   "outputs": [
    {
     "name": "stdout",
     "output_type": "stream",
     "text": [
      "6min 27s ± 0 ns per loop (mean ± std. dev. of 1 run, 1 loop each)\n"
     ]
    }
   ],
   "source": [
    "%%timeit -n 1 -r 1\n",
    "\n",
    "# vectorizer_model = CountVectorizer(ngram_range=(1, 2), stop_words=\"english\", min_df=10)\n",
    "# topic_model = BERTopic(vectorizer_model=vectorizer_model, low_memory=True)\n",
    "topics, probs = topic_model.fit_transform(docs)"
   ]
  },
  {
   "cell_type": "code",
   "execution_count": 45,
   "id": "16c3ef70-45a8-4643-9e07-bb082671f6ca",
   "metadata": {},
   "outputs": [
    {
     "data": {
      "text/html": [
       "<div>\n",
       "<style scoped>\n",
       "    .dataframe tbody tr th:only-of-type {\n",
       "        vertical-align: middle;\n",
       "    }\n",
       "\n",
       "    .dataframe tbody tr th {\n",
       "        vertical-align: top;\n",
       "    }\n",
       "\n",
       "    .dataframe thead th {\n",
       "        text-align: right;\n",
       "    }\n",
       "</style>\n",
       "<table border=\"1\" class=\"dataframe\">\n",
       "  <thead>\n",
       "    <tr style=\"text-align: right;\">\n",
       "      <th></th>\n",
       "      <th>Topic</th>\n",
       "      <th>Count</th>\n",
       "      <th>Name</th>\n",
       "    </tr>\n",
       "  </thead>\n",
       "  <tbody>\n",
       "    <tr>\n",
       "      <th>0</th>\n",
       "      <td>0</td>\n",
       "      <td>2144</td>\n",
       "      <td>0_to_and_the_that</td>\n",
       "    </tr>\n",
       "    <tr>\n",
       "      <th>1</th>\n",
       "      <td>1</td>\n",
       "      <td>31</td>\n",
       "      <td>1_entry___</td>\n",
       "    </tr>\n",
       "    <tr>\n",
       "      <th>2</th>\n",
       "      <td>2</td>\n",
       "      <td>12</td>\n",
       "      <td>2____</td>\n",
       "    </tr>\n",
       "    <tr>\n",
       "      <th>3</th>\n",
       "      <td>-1</td>\n",
       "      <td>2</td>\n",
       "      <td>-1_entry___</td>\n",
       "    </tr>\n",
       "  </tbody>\n",
       "</table>\n",
       "</div>"
      ],
      "text/plain": [
       "   Topic  Count               Name\n",
       "0      0   2144  0_to_and_the_that\n",
       "1      1     31         1_entry___\n",
       "2      2     12              2____\n",
       "3     -1      2        -1_entry___"
      ]
     },
     "execution_count": 45,
     "metadata": {},
     "output_type": "execute_result"
    }
   ],
   "source": [
    "topic_model.get_topic_info()"
   ]
  },
  {
   "cell_type": "code",
   "execution_count": 41,
   "id": "9ebd96d0-626a-44f3-add2-e2d065d850bb",
   "metadata": {},
   "outputs": [
    {
     "name": "stdout",
     "output_type": "stream",
     "text": [
      "HI\n"
     ]
    }
   ],
   "source": [
    "print (\"HI\") \n"
   ]
  },
  {
   "cell_type": "code",
   "execution_count": 57,
   "id": "2c06b9a4-c6d0-42da-9243-f27a2a7391b8",
   "metadata": {},
   "outputs": [
    {
     "data": {
      "text/plain": [
       "[('to', 0.06852004468693765),\n",
       " ('and', 0.06819477352667545),\n",
       " ('the', 0.06312443578929072),\n",
       " ('that', 0.054722516971145566),\n",
       " ('is', 0.04908830477237167),\n",
       " ('it', 0.0401638985225669),\n",
       " ('you', 0.03913816920584649),\n",
       " ('be', 0.03897851811944567),\n",
       " ('of', 0.03788805540749748),\n",
       " ('what', 0.03174534597633403)]"
      ]
     },
     "execution_count": 57,
     "metadata": {},
     "output_type": "execute_result"
    }
   ],
   "source": [
    " topic_model.get_topic(0)\n"
   ]
  },
  {
   "cell_type": "code",
   "execution_count": 52,
   "id": "9eb64ec1-1229-48cd-8956-4e37e124a4d4",
   "metadata": {},
   "outputs": [
    {
     "name": "stdout",
     "output_type": "stream",
     "text": [
      "Yup no change, do this for your technology, during S7, and also do this with S6, yup that makes sense to me. Rahul si right, own the future tell him here's how I'll evaluate success, I'm not seeing god examples of that, I'm not seeing examples of functioning. Clearly as a senior I\"ve got to make strategy succeed, I'm not feeling listented to enough to have an impact here, so don't participate. That doesnt' make a lot of sense. Localizing visualization makes sense, as we've done, but we shouldn't have done it that way, the excitement around visualizing is a so what, or can have huge value. Need to focus on selling, to myself, then sell out and around. And the funny thing is , I don't  believe. I need to decide I'll put a start date on every idea in my deck and an end date and see how that works, don't ready fir aim, to expesnive. Need to focus, slow down, decide what you're going to do and correct, dont' just research, decide the criteria you want to evaluate against. Do I have a clear idea of success, the problem isn't agenda, it's not calling out must have don't have. THe key is delegration of a problem has been in-effective no framework undewhich I can evaluate success. I don't know what success means, which mean si can't be successful, I need to propose what success is, and then get by off on the change, and why the change existed. THat's important alwaqys make it seem slike things are deliberate, that deliberate becomes the story you tell. That disconnected instrumnetnation is nth 3ewrong story, he took the wrong messqage, and that's becdause I let him look how hard we're fighting to control the story. This is key, own the story.  Be very careful to warm nto to shoot the messenger. I don't think you have clarity around who owns what and what you're thinking you're getting. Maybe I'm snapping back to quickly. Ic an show you this over a data set that maikese sense and we have a lot of experience in, in a random data set I lack the insight. What was Pual's advice. \n"
     ]
    }
   ],
   "source": [
    "print(docs[393])"
   ]
  },
  {
   "cell_type": "code",
   "execution_count": 9,
   "id": "e043b430-12c6-4f1d-9c8d-b1db7d91d092",
   "metadata": {},
   "outputs": [
    {
     "data": {
      "text/plain": [
       "18846"
      ]
     },
     "execution_count": 9,
     "metadata": {},
     "output_type": "execute_result"
    }
   ],
   "source": [
    "len (docs)\n"
   ]
  },
  {
   "cell_type": "code",
   "execution_count": 29,
   "id": "7c9cd4fe-e740-4088-8494-8cb690424999",
   "metadata": {},
   "outputs": [
    {
     "data": {
      "application/vnd.plotly.v1+json": {
       "config": {
        "plotlyServerURL": "https://plot.ly"
       },
       "data": [
        {
         "coloraxis": "coloraxis",
         "hovertemplate": "x: %{x}<br>y: %{y}<br>Similarity Score: %{z}<extra></extra>",
         "name": "0",
         "type": "heatmap",
         "x": [
          "0_to_and_the",
          "1_the_and_to"
         ],
         "xaxis": "x",
         "y": [
          "0_to_and_the",
          "1_the_and_to"
         ],
         "yaxis": "y",
         "z": [
          [
           0.9999999999999998,
           0.9860427279651339
          ],
          [
           0.9860427279651339,
           0.9999999999999993
          ]
         ]
        }
       ],
       "layout": {
        "coloraxis": {
         "colorbar": {
          "title": {
           "text": "Similarity Score"
          }
         },
         "colorscale": [
          [
           0,
           "rgb(247,252,240)"
          ],
          [
           0.125,
           "rgb(224,243,219)"
          ],
          [
           0.25,
           "rgb(204,235,197)"
          ],
          [
           0.375,
           "rgb(168,221,181)"
          ],
          [
           0.5,
           "rgb(123,204,196)"
          ],
          [
           0.625,
           "rgb(78,179,211)"
          ],
          [
           0.75,
           "rgb(43,140,190)"
          ],
          [
           0.875,
           "rgb(8,104,172)"
          ],
          [
           1,
           "rgb(8,64,129)"
          ]
         ]
        },
        "height": 800,
        "hoverlabel": {
         "bgcolor": "white",
         "font": {
          "family": "Rockwell",
          "size": 16
         }
        },
        "legend": {
         "title": {
          "text": "Trend"
         }
        },
        "margin": {
         "t": 60
        },
        "showlegend": true,
        "template": {
         "data": {
          "bar": [
           {
            "error_x": {
             "color": "#2a3f5f"
            },
            "error_y": {
             "color": "#2a3f5f"
            },
            "marker": {
             "line": {
              "color": "#E5ECF6",
              "width": 0.5
             },
             "pattern": {
              "fillmode": "overlay",
              "size": 10,
              "solidity": 0.2
             }
            },
            "type": "bar"
           }
          ],
          "barpolar": [
           {
            "marker": {
             "line": {
              "color": "#E5ECF6",
              "width": 0.5
             },
             "pattern": {
              "fillmode": "overlay",
              "size": 10,
              "solidity": 0.2
             }
            },
            "type": "barpolar"
           }
          ],
          "carpet": [
           {
            "aaxis": {
             "endlinecolor": "#2a3f5f",
             "gridcolor": "white",
             "linecolor": "white",
             "minorgridcolor": "white",
             "startlinecolor": "#2a3f5f"
            },
            "baxis": {
             "endlinecolor": "#2a3f5f",
             "gridcolor": "white",
             "linecolor": "white",
             "minorgridcolor": "white",
             "startlinecolor": "#2a3f5f"
            },
            "type": "carpet"
           }
          ],
          "choropleth": [
           {
            "colorbar": {
             "outlinewidth": 0,
             "ticks": ""
            },
            "type": "choropleth"
           }
          ],
          "contour": [
           {
            "colorbar": {
             "outlinewidth": 0,
             "ticks": ""
            },
            "colorscale": [
             [
              0,
              "#0d0887"
             ],
             [
              0.1111111111111111,
              "#46039f"
             ],
             [
              0.2222222222222222,
              "#7201a8"
             ],
             [
              0.3333333333333333,
              "#9c179e"
             ],
             [
              0.4444444444444444,
              "#bd3786"
             ],
             [
              0.5555555555555556,
              "#d8576b"
             ],
             [
              0.6666666666666666,
              "#ed7953"
             ],
             [
              0.7777777777777778,
              "#fb9f3a"
             ],
             [
              0.8888888888888888,
              "#fdca26"
             ],
             [
              1,
              "#f0f921"
             ]
            ],
            "type": "contour"
           }
          ],
          "contourcarpet": [
           {
            "colorbar": {
             "outlinewidth": 0,
             "ticks": ""
            },
            "type": "contourcarpet"
           }
          ],
          "heatmap": [
           {
            "colorbar": {
             "outlinewidth": 0,
             "ticks": ""
            },
            "colorscale": [
             [
              0,
              "#0d0887"
             ],
             [
              0.1111111111111111,
              "#46039f"
             ],
             [
              0.2222222222222222,
              "#7201a8"
             ],
             [
              0.3333333333333333,
              "#9c179e"
             ],
             [
              0.4444444444444444,
              "#bd3786"
             ],
             [
              0.5555555555555556,
              "#d8576b"
             ],
             [
              0.6666666666666666,
              "#ed7953"
             ],
             [
              0.7777777777777778,
              "#fb9f3a"
             ],
             [
              0.8888888888888888,
              "#fdca26"
             ],
             [
              1,
              "#f0f921"
             ]
            ],
            "type": "heatmap"
           }
          ],
          "heatmapgl": [
           {
            "colorbar": {
             "outlinewidth": 0,
             "ticks": ""
            },
            "colorscale": [
             [
              0,
              "#0d0887"
             ],
             [
              0.1111111111111111,
              "#46039f"
             ],
             [
              0.2222222222222222,
              "#7201a8"
             ],
             [
              0.3333333333333333,
              "#9c179e"
             ],
             [
              0.4444444444444444,
              "#bd3786"
             ],
             [
              0.5555555555555556,
              "#d8576b"
             ],
             [
              0.6666666666666666,
              "#ed7953"
             ],
             [
              0.7777777777777778,
              "#fb9f3a"
             ],
             [
              0.8888888888888888,
              "#fdca26"
             ],
             [
              1,
              "#f0f921"
             ]
            ],
            "type": "heatmapgl"
           }
          ],
          "histogram": [
           {
            "marker": {
             "pattern": {
              "fillmode": "overlay",
              "size": 10,
              "solidity": 0.2
             }
            },
            "type": "histogram"
           }
          ],
          "histogram2d": [
           {
            "colorbar": {
             "outlinewidth": 0,
             "ticks": ""
            },
            "colorscale": [
             [
              0,
              "#0d0887"
             ],
             [
              0.1111111111111111,
              "#46039f"
             ],
             [
              0.2222222222222222,
              "#7201a8"
             ],
             [
              0.3333333333333333,
              "#9c179e"
             ],
             [
              0.4444444444444444,
              "#bd3786"
             ],
             [
              0.5555555555555556,
              "#d8576b"
             ],
             [
              0.6666666666666666,
              "#ed7953"
             ],
             [
              0.7777777777777778,
              "#fb9f3a"
             ],
             [
              0.8888888888888888,
              "#fdca26"
             ],
             [
              1,
              "#f0f921"
             ]
            ],
            "type": "histogram2d"
           }
          ],
          "histogram2dcontour": [
           {
            "colorbar": {
             "outlinewidth": 0,
             "ticks": ""
            },
            "colorscale": [
             [
              0,
              "#0d0887"
             ],
             [
              0.1111111111111111,
              "#46039f"
             ],
             [
              0.2222222222222222,
              "#7201a8"
             ],
             [
              0.3333333333333333,
              "#9c179e"
             ],
             [
              0.4444444444444444,
              "#bd3786"
             ],
             [
              0.5555555555555556,
              "#d8576b"
             ],
             [
              0.6666666666666666,
              "#ed7953"
             ],
             [
              0.7777777777777778,
              "#fb9f3a"
             ],
             [
              0.8888888888888888,
              "#fdca26"
             ],
             [
              1,
              "#f0f921"
             ]
            ],
            "type": "histogram2dcontour"
           }
          ],
          "mesh3d": [
           {
            "colorbar": {
             "outlinewidth": 0,
             "ticks": ""
            },
            "type": "mesh3d"
           }
          ],
          "parcoords": [
           {
            "line": {
             "colorbar": {
              "outlinewidth": 0,
              "ticks": ""
             }
            },
            "type": "parcoords"
           }
          ],
          "pie": [
           {
            "automargin": true,
            "type": "pie"
           }
          ],
          "scatter": [
           {
            "marker": {
             "colorbar": {
              "outlinewidth": 0,
              "ticks": ""
             }
            },
            "type": "scatter"
           }
          ],
          "scatter3d": [
           {
            "line": {
             "colorbar": {
              "outlinewidth": 0,
              "ticks": ""
             }
            },
            "marker": {
             "colorbar": {
              "outlinewidth": 0,
              "ticks": ""
             }
            },
            "type": "scatter3d"
           }
          ],
          "scattercarpet": [
           {
            "marker": {
             "colorbar": {
              "outlinewidth": 0,
              "ticks": ""
             }
            },
            "type": "scattercarpet"
           }
          ],
          "scattergeo": [
           {
            "marker": {
             "colorbar": {
              "outlinewidth": 0,
              "ticks": ""
             }
            },
            "type": "scattergeo"
           }
          ],
          "scattergl": [
           {
            "marker": {
             "colorbar": {
              "outlinewidth": 0,
              "ticks": ""
             }
            },
            "type": "scattergl"
           }
          ],
          "scattermapbox": [
           {
            "marker": {
             "colorbar": {
              "outlinewidth": 0,
              "ticks": ""
             }
            },
            "type": "scattermapbox"
           }
          ],
          "scatterpolar": [
           {
            "marker": {
             "colorbar": {
              "outlinewidth": 0,
              "ticks": ""
             }
            },
            "type": "scatterpolar"
           }
          ],
          "scatterpolargl": [
           {
            "marker": {
             "colorbar": {
              "outlinewidth": 0,
              "ticks": ""
             }
            },
            "type": "scatterpolargl"
           }
          ],
          "scatterternary": [
           {
            "marker": {
             "colorbar": {
              "outlinewidth": 0,
              "ticks": ""
             }
            },
            "type": "scatterternary"
           }
          ],
          "surface": [
           {
            "colorbar": {
             "outlinewidth": 0,
             "ticks": ""
            },
            "colorscale": [
             [
              0,
              "#0d0887"
             ],
             [
              0.1111111111111111,
              "#46039f"
             ],
             [
              0.2222222222222222,
              "#7201a8"
             ],
             [
              0.3333333333333333,
              "#9c179e"
             ],
             [
              0.4444444444444444,
              "#bd3786"
             ],
             [
              0.5555555555555556,
              "#d8576b"
             ],
             [
              0.6666666666666666,
              "#ed7953"
             ],
             [
              0.7777777777777778,
              "#fb9f3a"
             ],
             [
              0.8888888888888888,
              "#fdca26"
             ],
             [
              1,
              "#f0f921"
             ]
            ],
            "type": "surface"
           }
          ],
          "table": [
           {
            "cells": {
             "fill": {
              "color": "#EBF0F8"
             },
             "line": {
              "color": "white"
             }
            },
            "header": {
             "fill": {
              "color": "#C8D4E3"
             },
             "line": {
              "color": "white"
             }
            },
            "type": "table"
           }
          ]
         },
         "layout": {
          "annotationdefaults": {
           "arrowcolor": "#2a3f5f",
           "arrowhead": 0,
           "arrowwidth": 1
          },
          "autotypenumbers": "strict",
          "coloraxis": {
           "colorbar": {
            "outlinewidth": 0,
            "ticks": ""
           }
          },
          "colorscale": {
           "diverging": [
            [
             0,
             "#8e0152"
            ],
            [
             0.1,
             "#c51b7d"
            ],
            [
             0.2,
             "#de77ae"
            ],
            [
             0.3,
             "#f1b6da"
            ],
            [
             0.4,
             "#fde0ef"
            ],
            [
             0.5,
             "#f7f7f7"
            ],
            [
             0.6,
             "#e6f5d0"
            ],
            [
             0.7,
             "#b8e186"
            ],
            [
             0.8,
             "#7fbc41"
            ],
            [
             0.9,
             "#4d9221"
            ],
            [
             1,
             "#276419"
            ]
           ],
           "sequential": [
            [
             0,
             "#0d0887"
            ],
            [
             0.1111111111111111,
             "#46039f"
            ],
            [
             0.2222222222222222,
             "#7201a8"
            ],
            [
             0.3333333333333333,
             "#9c179e"
            ],
            [
             0.4444444444444444,
             "#bd3786"
            ],
            [
             0.5555555555555556,
             "#d8576b"
            ],
            [
             0.6666666666666666,
             "#ed7953"
            ],
            [
             0.7777777777777778,
             "#fb9f3a"
            ],
            [
             0.8888888888888888,
             "#fdca26"
            ],
            [
             1,
             "#f0f921"
            ]
           ],
           "sequentialminus": [
            [
             0,
             "#0d0887"
            ],
            [
             0.1111111111111111,
             "#46039f"
            ],
            [
             0.2222222222222222,
             "#7201a8"
            ],
            [
             0.3333333333333333,
             "#9c179e"
            ],
            [
             0.4444444444444444,
             "#bd3786"
            ],
            [
             0.5555555555555556,
             "#d8576b"
            ],
            [
             0.6666666666666666,
             "#ed7953"
            ],
            [
             0.7777777777777778,
             "#fb9f3a"
            ],
            [
             0.8888888888888888,
             "#fdca26"
            ],
            [
             1,
             "#f0f921"
            ]
           ]
          },
          "colorway": [
           "#636efa",
           "#EF553B",
           "#00cc96",
           "#ab63fa",
           "#FFA15A",
           "#19d3f3",
           "#FF6692",
           "#B6E880",
           "#FF97FF",
           "#FECB52"
          ],
          "font": {
           "color": "#2a3f5f"
          },
          "geo": {
           "bgcolor": "white",
           "lakecolor": "white",
           "landcolor": "#E5ECF6",
           "showlakes": true,
           "showland": true,
           "subunitcolor": "white"
          },
          "hoverlabel": {
           "align": "left"
          },
          "hovermode": "closest",
          "mapbox": {
           "style": "light"
          },
          "paper_bgcolor": "white",
          "plot_bgcolor": "#E5ECF6",
          "polar": {
           "angularaxis": {
            "gridcolor": "white",
            "linecolor": "white",
            "ticks": ""
           },
           "bgcolor": "#E5ECF6",
           "radialaxis": {
            "gridcolor": "white",
            "linecolor": "white",
            "ticks": ""
           }
          },
          "scene": {
           "xaxis": {
            "backgroundcolor": "#E5ECF6",
            "gridcolor": "white",
            "gridwidth": 2,
            "linecolor": "white",
            "showbackground": true,
            "ticks": "",
            "zerolinecolor": "white"
           },
           "yaxis": {
            "backgroundcolor": "#E5ECF6",
            "gridcolor": "white",
            "gridwidth": 2,
            "linecolor": "white",
            "showbackground": true,
            "ticks": "",
            "zerolinecolor": "white"
           },
           "zaxis": {
            "backgroundcolor": "#E5ECF6",
            "gridcolor": "white",
            "gridwidth": 2,
            "linecolor": "white",
            "showbackground": true,
            "ticks": "",
            "zerolinecolor": "white"
           }
          },
          "shapedefaults": {
           "line": {
            "color": "#2a3f5f"
           }
          },
          "ternary": {
           "aaxis": {
            "gridcolor": "white",
            "linecolor": "white",
            "ticks": ""
           },
           "baxis": {
            "gridcolor": "white",
            "linecolor": "white",
            "ticks": ""
           },
           "bgcolor": "#E5ECF6",
           "caxis": {
            "gridcolor": "white",
            "linecolor": "white",
            "ticks": ""
           }
          },
          "title": {
           "x": 0.05
          },
          "xaxis": {
           "automargin": true,
           "gridcolor": "white",
           "linecolor": "white",
           "ticks": "",
           "title": {
            "standoff": 15
           },
           "zerolinecolor": "white",
           "zerolinewidth": 2
          },
          "yaxis": {
           "automargin": true,
           "gridcolor": "white",
           "linecolor": "white",
           "ticks": "",
           "title": {
            "standoff": 15
           },
           "zerolinecolor": "white",
           "zerolinewidth": 2
          }
         }
        },
        "title": {
         "font": {
          "color": "Black",
          "size": 22
         },
         "text": "<b>Similarity Matrix",
         "x": 0.55,
         "xanchor": "center",
         "y": 0.95,
         "yanchor": "top"
        },
        "width": 800,
        "xaxis": {
         "anchor": "y",
         "autorange": true,
         "constrain": "domain",
         "domain": [
          0,
          1
         ],
         "range": [
          -0.5,
          1.5
         ],
         "scaleanchor": "y",
         "type": "category"
        },
        "yaxis": {
         "anchor": "x",
         "autorange": true,
         "constrain": "domain",
         "domain": [
          0.0840909090909091,
          0.9159090909090909
         ],
         "range": [
          1.5,
          -0.5
         ],
         "type": "category"
        }
       }
      },
      "image/png": "[encoded data removed]",
      "text/html": [
       "<div>                            <div id=\"c20e6cbc-bebd-4537-8614-a173ec7e5499\" class=\"plotly-graph-div\" style=\"height:800px; width:800px;\"></div>            <script type=\"text/javascript\">                require([\"plotly\"], function(Plotly) {                    window.PLOTLYENV=window.PLOTLYENV || {};                                    if (document.getElementById(\"c20e6cbc-bebd-4537-8614-a173ec7e5499\")) {                    Plotly.newPlot(                        \"c20e6cbc-bebd-4537-8614-a173ec7e5499\",                        [{\"coloraxis\":\"coloraxis\",\"name\":\"0\",\"x\":[\"0_to_and_the\",\"1_the_and_to\"],\"y\":[\"0_to_and_the\",\"1_the_and_to\"],\"z\":[[0.9999999999999998,0.9860427279651339],[0.9860427279651339,0.9999999999999993]],\"type\":\"heatmap\",\"xaxis\":\"x\",\"yaxis\":\"y\",\"hovertemplate\":\"x: %{x}<br>y: %{y}<br>Similarity Score: %{z}<extra></extra>\"}],                        {\"template\":{\"data\":{\"bar\":[{\"error_x\":{\"color\":\"#2a3f5f\"},\"error_y\":{\"color\":\"#2a3f5f\"},\"marker\":{\"line\":{\"color\":\"#E5ECF6\",\"width\":0.5},\"pattern\":{\"fillmode\":\"overlay\",\"size\":10,\"solidity\":0.2}},\"type\":\"bar\"}],\"barpolar\":[{\"marker\":{\"line\":{\"color\":\"#E5ECF6\",\"width\":0.5},\"pattern\":{\"fillmode\":\"overlay\",\"size\":10,\"solidity\":0.2}},\"type\":\"barpolar\"}],\"carpet\":[{\"aaxis\":{\"endlinecolor\":\"#2a3f5f\",\"gridcolor\":\"white\",\"linecolor\":\"white\",\"minorgridcolor\":\"white\",\"startlinecolor\":\"#2a3f5f\"},\"baxis\":{\"endlinecolor\":\"#2a3f5f\",\"gridcolor\":\"white\",\"linecolor\":\"white\",\"minorgridcolor\":\"white\",\"startlinecolor\":\"#2a3f5f\"},\"type\":\"carpet\"}],\"choropleth\":[{\"colorbar\":{\"outlinewidth\":0,\"ticks\":\"\"},\"type\":\"choropleth\"}],\"contour\":[{\"colorbar\":{\"outlinewidth\":0,\"ticks\":\"\"},\"colorscale\":[[0.0,\"#0d0887\"],[0.1111111111111111,\"#46039f\"],[0.2222222222222222,\"#7201a8\"],[0.3333333333333333,\"#9c179e\"],[0.4444444444444444,\"#bd3786\"],[0.5555555555555556,\"#d8576b\"],[0.6666666666666666,\"#ed7953\"],[0.7777777777777778,\"#fb9f3a\"],[0.8888888888888888,\"#fdca26\"],[1.0,\"#f0f921\"]],\"type\":\"contour\"}],\"contourcarpet\":[{\"colorbar\":{\"outlinewidth\":0,\"ticks\":\"\"},\"type\":\"contourcarpet\"}],\"heatmap\":[{\"colorbar\":{\"outlinewidth\":0,\"ticks\":\"\"},\"colorscale\":[[0.0,\"#0d0887\"],[0.1111111111111111,\"#46039f\"],[0.2222222222222222,\"#7201a8\"],[0.3333333333333333,\"#9c179e\"],[0.4444444444444444,\"#bd3786\"],[0.5555555555555556,\"#d8576b\"],[0.6666666666666666,\"#ed7953\"],[0.7777777777777778,\"#fb9f3a\"],[0.8888888888888888,\"#fdca26\"],[1.0,\"#f0f921\"]],\"type\":\"heatmap\"}],\"heatmapgl\":[{\"colorbar\":{\"outlinewidth\":0,\"ticks\":\"\"},\"colorscale\":[[0.0,\"#0d0887\"],[0.1111111111111111,\"#46039f\"],[0.2222222222222222,\"#7201a8\"],[0.3333333333333333,\"#9c179e\"],[0.4444444444444444,\"#bd3786\"],[0.5555555555555556,\"#d8576b\"],[0.6666666666666666,\"#ed7953\"],[0.7777777777777778,\"#fb9f3a\"],[0.8888888888888888,\"#fdca26\"],[1.0,\"#f0f921\"]],\"type\":\"heatmapgl\"}],\"histogram\":[{\"marker\":{\"pattern\":{\"fillmode\":\"overlay\",\"size\":10,\"solidity\":0.2}},\"type\":\"histogram\"}],\"histogram2d\":[{\"colorbar\":{\"outlinewidth\":0,\"ticks\":\"\"},\"colorscale\":[[0.0,\"#0d0887\"],[0.1111111111111111,\"#46039f\"],[0.2222222222222222,\"#7201a8\"],[0.3333333333333333,\"#9c179e\"],[0.4444444444444444,\"#bd3786\"],[0.5555555555555556,\"#d8576b\"],[0.6666666666666666,\"#ed7953\"],[0.7777777777777778,\"#fb9f3a\"],[0.8888888888888888,\"#fdca26\"],[1.0,\"#f0f921\"]],\"type\":\"histogram2d\"}],\"histogram2dcontour\":[{\"colorbar\":{\"outlinewidth\":0,\"ticks\":\"\"},\"colorscale\":[[0.0,\"#0d0887\"],[0.1111111111111111,\"#46039f\"],[0.2222222222222222,\"#7201a8\"],[0.3333333333333333,\"#9c179e\"],[0.4444444444444444,\"#bd3786\"],[0.5555555555555556,\"#d8576b\"],[0.6666666666666666,\"#ed7953\"],[0.7777777777777778,\"#fb9f3a\"],[0.8888888888888888,\"#fdca26\"],[1.0,\"#f0f921\"]],\"type\":\"histogram2dcontour\"}],\"mesh3d\":[{\"colorbar\":{\"outlinewidth\":0,\"ticks\":\"\"},\"type\":\"mesh3d\"}],\"parcoords\":[{\"line\":{\"colorbar\":{\"outlinewidth\":0,\"ticks\":\"\"}},\"type\":\"parcoords\"}],\"pie\":[{\"automargin\":true,\"type\":\"pie\"}],\"scatter\":[{\"marker\":{\"colorbar\":{\"outlinewidth\":0,\"ticks\":\"\"}},\"type\":\"scatter\"}],\"scatter3d\":[{\"line\":{\"colorbar\":{\"outlinewidth\":0,\"ticks\":\"\"}},\"marker\":{\"colorbar\":{\"outlinewidth\":0,\"ticks\":\"\"}},\"type\":\"scatter3d\"}],\"scattercarpet\":[{\"marker\":{\"colorbar\":{\"outlinewidth\":0,\"ticks\":\"\"}},\"type\":\"scattercarpet\"}],\"scattergeo\":[{\"marker\":{\"colorbar\":{\"outlinewidth\":0,\"ticks\":\"\"}},\"type\":\"scattergeo\"}],\"scattergl\":[{\"marker\":{\"colorbar\":{\"outlinewidth\":0,\"ticks\":\"\"}},\"type\":\"scattergl\"}],\"scattermapbox\":[{\"marker\":{\"colorbar\":{\"outlinewidth\":0,\"ticks\":\"\"}},\"type\":\"scattermapbox\"}],\"scatterpolar\":[{\"marker\":{\"colorbar\":{\"outlinewidth\":0,\"ticks\":\"\"}},\"type\":\"scatterpolar\"}],\"scatterpolargl\":[{\"marker\":{\"colorbar\":{\"outlinewidth\":0,\"ticks\":\"\"}},\"type\":\"scatterpolargl\"}],\"scatterternary\":[{\"marker\":{\"colorbar\":{\"outlinewidth\":0,\"ticks\":\"\"}},\"type\":\"scatterternary\"}],\"surface\":[{\"colorbar\":{\"outlinewidth\":0,\"ticks\":\"\"},\"colorscale\":[[0.0,\"#0d0887\"],[0.1111111111111111,\"#46039f\"],[0.2222222222222222,\"#7201a8\"],[0.3333333333333333,\"#9c179e\"],[0.4444444444444444,\"#bd3786\"],[0.5555555555555556,\"#d8576b\"],[0.6666666666666666,\"#ed7953\"],[0.7777777777777778,\"#fb9f3a\"],[0.8888888888888888,\"#fdca26\"],[1.0,\"#f0f921\"]],\"type\":\"surface\"}],\"table\":[{\"cells\":{\"fill\":{\"color\":\"#EBF0F8\"},\"line\":{\"color\":\"white\"}},\"header\":{\"fill\":{\"color\":\"#C8D4E3\"},\"line\":{\"color\":\"white\"}},\"type\":\"table\"}]},\"layout\":{\"annotationdefaults\":{\"arrowcolor\":\"#2a3f5f\",\"arrowhead\":0,\"arrowwidth\":1},\"autotypenumbers\":\"strict\",\"coloraxis\":{\"colorbar\":{\"outlinewidth\":0,\"ticks\":\"\"}},\"colorscale\":{\"diverging\":[[0,\"#8e0152\"],[0.1,\"#c51b7d\"],[0.2,\"#de77ae\"],[0.3,\"#f1b6da\"],[0.4,\"#fde0ef\"],[0.5,\"#f7f7f7\"],[0.6,\"#e6f5d0\"],[0.7,\"#b8e186\"],[0.8,\"#7fbc41\"],[0.9,\"#4d9221\"],[1,\"#276419\"]],\"sequential\":[[0.0,\"#0d0887\"],[0.1111111111111111,\"#46039f\"],[0.2222222222222222,\"#7201a8\"],[0.3333333333333333,\"#9c179e\"],[0.4444444444444444,\"#bd3786\"],[0.5555555555555556,\"#d8576b\"],[0.6666666666666666,\"#ed7953\"],[0.7777777777777778,\"#fb9f3a\"],[0.8888888888888888,\"#fdca26\"],[1.0,\"#f0f921\"]],\"sequentialminus\":[[0.0,\"#0d0887\"],[0.1111111111111111,\"#46039f\"],[0.2222222222222222,\"#7201a8\"],[0.3333333333333333,\"#9c179e\"],[0.4444444444444444,\"#bd3786\"],[0.5555555555555556,\"#d8576b\"],[0.6666666666666666,\"#ed7953\"],[0.7777777777777778,\"#fb9f3a\"],[0.8888888888888888,\"#fdca26\"],[1.0,\"#f0f921\"]]},\"colorway\":[\"#636efa\",\"#EF553B\",\"#00cc96\",\"#ab63fa\",\"#FFA15A\",\"#19d3f3\",\"#FF6692\",\"#B6E880\",\"#FF97FF\",\"#FECB52\"],\"font\":{\"color\":\"#2a3f5f\"},\"geo\":{\"bgcolor\":\"white\",\"lakecolor\":\"white\",\"landcolor\":\"#E5ECF6\",\"showlakes\":true,\"showland\":true,\"subunitcolor\":\"white\"},\"hoverlabel\":{\"align\":\"left\"},\"hovermode\":\"closest\",\"mapbox\":{\"style\":\"light\"},\"paper_bgcolor\":\"white\",\"plot_bgcolor\":\"#E5ECF6\",\"polar\":{\"angularaxis\":{\"gridcolor\":\"white\",\"linecolor\":\"white\",\"ticks\":\"\"},\"bgcolor\":\"#E5ECF6\",\"radialaxis\":{\"gridcolor\":\"white\",\"linecolor\":\"white\",\"ticks\":\"\"}},\"scene\":{\"xaxis\":{\"backgroundcolor\":\"#E5ECF6\",\"gridcolor\":\"white\",\"gridwidth\":2,\"linecolor\":\"white\",\"showbackground\":true,\"ticks\":\"\",\"zerolinecolor\":\"white\"},\"yaxis\":{\"backgroundcolor\":\"#E5ECF6\",\"gridcolor\":\"white\",\"gridwidth\":2,\"linecolor\":\"white\",\"showbackground\":true,\"ticks\":\"\",\"zerolinecolor\":\"white\"},\"zaxis\":{\"backgroundcolor\":\"#E5ECF6\",\"gridcolor\":\"white\",\"gridwidth\":2,\"linecolor\":\"white\",\"showbackground\":true,\"ticks\":\"\",\"zerolinecolor\":\"white\"}},\"shapedefaults\":{\"line\":{\"color\":\"#2a3f5f\"}},\"ternary\":{\"aaxis\":{\"gridcolor\":\"white\",\"linecolor\":\"white\",\"ticks\":\"\"},\"baxis\":{\"gridcolor\":\"white\",\"linecolor\":\"white\",\"ticks\":\"\"},\"bgcolor\":\"#E5ECF6\",\"caxis\":{\"gridcolor\":\"white\",\"linecolor\":\"white\",\"ticks\":\"\"}},\"title\":{\"x\":0.05},\"xaxis\":{\"automargin\":true,\"gridcolor\":\"white\",\"linecolor\":\"white\",\"ticks\":\"\",\"title\":{\"standoff\":15},\"zerolinecolor\":\"white\",\"zerolinewidth\":2},\"yaxis\":{\"automargin\":true,\"gridcolor\":\"white\",\"linecolor\":\"white\",\"ticks\":\"\",\"title\":{\"standoff\":15},\"zerolinecolor\":\"white\",\"zerolinewidth\":2}}},\"xaxis\":{\"anchor\":\"y\",\"domain\":[0.0,1.0],\"scaleanchor\":\"y\",\"constrain\":\"domain\"},\"yaxis\":{\"anchor\":\"x\",\"domain\":[0.0,1.0],\"autorange\":\"reversed\",\"constrain\":\"domain\"},\"coloraxis\":{\"colorbar\":{\"title\":{\"text\":\"Similarity Score\"}},\"colorscale\":[[0.0,\"rgb(247,252,240)\"],[0.125,\"rgb(224,243,219)\"],[0.25,\"rgb(204,235,197)\"],[0.375,\"rgb(168,221,181)\"],[0.5,\"rgb(123,204,196)\"],[0.625,\"rgb(78,179,211)\"],[0.75,\"rgb(43,140,190)\"],[0.875,\"rgb(8,104,172)\"],[1.0,\"rgb(8,64,129)\"]]},\"margin\":{\"t\":60},\"title\":{\"font\":{\"size\":22,\"color\":\"Black\"},\"text\":\"<b>Similarity Matrix\",\"y\":0.95,\"x\":0.55,\"xanchor\":\"center\",\"yanchor\":\"top\"},\"hoverlabel\":{\"font\":{\"size\":16,\"family\":\"Rockwell\"},\"bgcolor\":\"white\"},\"width\":800,\"height\":800,\"showlegend\":true,\"legend\":{\"title\":{\"text\":\"Trend\"}}},                        {\"responsive\": true}                    ).then(function(){\n",
       "                            \n",
       "var gd = document.getElementById('c20e6cbc-bebd-4537-8614-a173ec7e5499');\n",
       "var x = new MutationObserver(function (mutations, observer) {{\n",
       "        var display = window.getComputedStyle(gd).display;\n",
       "        if (!display || display === 'none') {{\n",
       "            console.log([gd, 'removed!']);\n",
       "            Plotly.purge(gd);\n",
       "            observer.disconnect();\n",
       "        }}\n",
       "}});\n",
       "\n",
       "// Listen for the removal of the full notebook cells\n",
       "var notebookContainer = gd.closest('#notebook-container');\n",
       "if (notebookContainer) {{\n",
       "    x.observe(notebookContainer, {childList: true});\n",
       "}}\n",
       "\n",
       "// Listen for the clearing of the current output cell\n",
       "var outputEl = gd.closest('.output');\n",
       "if (outputEl) {{\n",
       "    x.observe(outputEl, {childList: true});\n",
       "}}\n",
       "\n",
       "                        })                };                });            </script>        </div>"
      ]
     },
     "metadata": {},
     "output_type": "display_data"
    }
   ],
   "source": [
    "# topic_model.visualize_topics()\n",
    "topic_model.visualize_heatmap()"
   ]
  },
  {
   "cell_type": "code",
   "execution_count": 23,
   "id": "11488df7-679b-450b-aa7d-ef2d82601ccf",
   "metadata": {},
   "outputs": [
    {
     "name": "stdout",
     "output_type": "stream",
     "text": [
      "Hi\n",
      "1.84 ms ± 0 ns per loop (mean ± std. dev. of 1 run, 1 loop each)\n"
     ]
    }
   ],
   "source": [
    "%%timeit -n 1 -r 1\n",
    "\n",
    "print (\"Hi\")"
   ]
  },
  {
   "cell_type": "code",
   "execution_count": null,
   "id": "a6fc1195-bf71-4b2e-b1e5-e83d33b9ce4d",
   "metadata": {},
   "outputs": [],
   "source": []
  },
  {
   "cell_type": "code",
   "execution_count": null,
   "id": "1fba0dfe-84d5-4249-80d2-7ae14e0bba17",
   "metadata": {},
   "outputs": [],
   "source": []
  }
 ],
 "metadata": {
  "kernelspec": {
   "display_name": "Python 3 (ipykernel)",
   "language": "python",
   "name": "python3"
  },
  "language_info": {
   "codemirror_mode": {
    "name": "ipython",
    "version": 3
   },
   "file_extension": ".py",
   "mimetype": "text/x-python",
   "name": "python",
   "nbconvert_exporter": "python",
   "pygments_lexer": "ipython3",
   "version": "3.9.6"
  }
 },
 "nbformat": 4,
 "nbformat_minor": 5
}

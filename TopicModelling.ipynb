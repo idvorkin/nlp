{
 "cells": [
  {
   "cell_type": "code",
   "execution_count": null,
   "id": "d38ea26d-0f88-438c-88c7-603dadb70198",
   "metadata": {},
   "outputs": [],
   "source": [
    "import igor_journal"
   ]
  },
  {
   "cell_type": "code",
   "execution_count": null,
   "id": "1708ebf3-b231-4522-b0d6-a4d64699f31c",
   "metadata": {},
   "outputs": [],
   "source": [
    "from bertopic import BERTopic\n",
    "from sklearn.feature_extraction.text import CountVectorizer\n",
    "from sklearn.datasets import fetch_20newsgroups"
   ]
  },
  {
   "cell_type": "code",
   "execution_count": null,
   "id": "00565f5d-de11-4207-b531-f802eb0239e2",
   "metadata": {},
   "outputs": [],
   "source": [
    "%%timeit -n 1 -r 1\n",
    "# docs = fetch_20newsgroups(subset='all',  remove=('headers', 'footers', 'quotes'))['data']\n",
    "docs = [ \" \".join(igor_journal.JournalEntry(e).body()) for e in  igor_journal.all_entries() ] \n",
    "print (len(docs))"
   ]
  },
  {
   "cell_type": "code",
   "execution_count": null,
   "id": "bd44c582-1d26-41ad-9e04-cb9683fb85db",
   "metadata": {},
   "outputs": [],
   "source": [
    "# docs\n",
    "topic_model = BERTopic(low_memory=False, min_topic_size=3)\n",
    "topics, probs = 0, 0"
   ]
  },
  {
   "cell_type": "code",
   "execution_count": null,
   "id": "9b20e491-0bc9-4946-8f5d-d83667fba110",
   "metadata": {},
   "outputs": [],
   "source": [
    "%%timeit -n 1 -r 1\n",
    "\n",
    "# vectorizer_model = CountVectorizer(ngram_range=(1, 2), stop_words=\"english\", min_df=10)\n",
    "# topic_model = BERTopic(vectorizer_model=vectorizer_model, low_memory=True)\n",
    "topics, probs = topic_model.fit_transform(docs)"
   ]
  },
  {
   "cell_type": "code",
   "execution_count": null,
   "id": "16c3ef70-45a8-4643-9e07-bb082671f6ca",
   "metadata": {},
   "outputs": [],
   "source": [
    "topic_model.get_topic_info()"
   ]
  },
  {
   "cell_type": "code",
   "execution_count": null,
   "id": "9ebd96d0-626a-44f3-add2-e2d065d850bb",
   "metadata": {},
   "outputs": [],
   "source": [
    "print (\"HI\") \n"
   ]
  },
  {
   "cell_type": "code",
   "execution_count": null,
   "id": "2c06b9a4-c6d0-42da-9243-f27a2a7391b8",
   "metadata": {},
   "outputs": [],
   "source": [
    " topic_model.get_topic(0)\n"
   ]
  },
  {
   "cell_type": "code",
   "execution_count": null,
   "id": "9eb64ec1-1229-48cd-8956-4e37e124a4d4",
   "metadata": {},
   "outputs": [],
   "source": [
    "print(docs[393])"
   ]
  },
  {
   "cell_type": "code",
   "execution_count": null,
   "id": "e043b430-12c6-4f1d-9c8d-b1db7d91d092",
   "metadata": {},
   "outputs": [],
   "source": [
    "len (docs)\n"
   ]
  },
  {
   "cell_type": "code",
   "execution_count": null,
   "id": "7c9cd4fe-e740-4088-8494-8cb690424999",
   "metadata": {},
   "outputs": [],
   "source": [
    "# topic_model.visualize_topics()\n",
    "topic_model.visualize_heatmap()"
   ]
  },
  {
   "cell_type": "code",
   "execution_count": null,
   "id": "11488df7-679b-450b-aa7d-ef2d82601ccf",
   "metadata": {},
   "outputs": [],
   "source": [
    "%%timeit -n 1 -r 1\n",
    "\n",
    "print (\"Hi\")"
   ]
  },
  {
   "cell_type": "code",
   "execution_count": null,
   "id": "a6fc1195-bf71-4b2e-b1e5-e83d33b9ce4d",
   "metadata": {},
   "outputs": [],
   "source": []
  },
  {
   "cell_type": "code",
   "execution_count": null,
   "id": "1fba0dfe-84d5-4249-80d2-7ae14e0bba17",
   "metadata": {},
   "outputs": [],
   "source": []
  }
 ],
 "metadata": {
  "kernelspec": {
   "display_name": "Python 3 (ipykernel)",
   "language": "python",
   "name": "python3"
  },
  "language_info": {
   "codemirror_mode": {
    "name": "ipython",
    "version": 3
   },
   "file_extension": ".py",
   "mimetype": "text/x-python",
   "name": "python",
   "nbconvert_exporter": "python",
   "pygments_lexer": "ipython3",
   "version": "3.9.6"
  }
 },
 "nbformat": 4,
 "nbformat_minor": 5
}

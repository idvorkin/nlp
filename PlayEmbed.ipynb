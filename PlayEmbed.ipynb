{
 "cells": [
  {
   "cell_type": "code",
   "execution_count": null,
   "id": "9d0a3e84-20bd-47eb-8c7d-e5df4aa9511e",
   "metadata": {},
   "outputs": [],
   "source": [
    "import pandas as pd\n",
    "import os\n",
    "import numpy as np\n",
    "import sklearn as scikit\n",
    "from sklearn.metrics.pairwise import cosine_similarity\n",
    "from sklearn.manifold import TSNE\n",
    "import altair as alt\n",
    "from sklearn.decomposition import PCA\n",
    "\n",
    "\n",
    "# Ideas copied from 'Visualizing the embeddings in 2D'"
   ]
  },
  {
   "cell_type": "code",
   "execution_count": null,
   "id": "6e188ec5-cb6e-491d-a0cc-166cc08b691b",
   "metadata": {},
   "outputs": [],
   "source": [
    "df = pd.read_pickle(os.path.expanduser(\"~/gits/igor2/archive/2022-12-18.journal.gz\"))\n",
    "df.date = pd.DatetimeIndex(df.date)\n",
    "matrix = np.array(df.embeddings.to_list())"
   ]
  },
  {
   "cell_type": "code",
   "execution_count": null,
   "id": "a57636cc-85c1-4948-92b9-d1084cef7f97",
   "metadata": {},
   "outputs": [],
   "source": [
    "matrix"
   ]
  },
  {
   "cell_type": "code",
   "execution_count": null,
   "id": "084cbaa9-3271-46e7-8d98-c22f37431c0e",
   "metadata": {},
   "outputs": [],
   "source": [
    "# USE PCA to reduce dimensionality\n",
    "# Consider the other tool from 2D visualization)\n",
    "df[\"pca_3d\"] = PCA(n_components=3).fit_transform(matrix).tolist()\n",
    "df[\"pca_2d\"] = PCA(n_components=2).fit_transform(matrix).tolist()"
   ]
  },
  {
   "cell_type": "code",
   "execution_count": null,
   "id": "3c2138dd-c2a0-462a-bc37-5f1829c69d68",
   "metadata": {},
   "outputs": [],
   "source": [
    "def make_tsne(matrix, n):\n",
    "    # Create a t-SNE model and transform the data\n",
    "    tsne = TSNE(\n",
    "        n_components=n, perplexity=15, random_state=42, init=\"random\", learning_rate=200\n",
    "    )\n",
    "    vis_dims = tsne.fit_transform(matrix)\n",
    "    return vis_dims\n",
    "\n",
    "\n",
    "tsne = make_tsne(matrix, 2)"
   ]
  },
  {
   "cell_type": "code",
   "execution_count": null,
   "id": "5d0065fb-779f-4752-83f5-aef8d58588a1",
   "metadata": {},
   "outputs": [],
   "source": [
    "tsne.shape"
   ]
  },
  {
   "cell_type": "code",
   "execution_count": null,
   "id": "86500032-583b-4fdc-aff0-05edbe88ef94",
   "metadata": {},
   "outputs": [],
   "source": [
    "df[\"tsne_2d\"] = tsne.tolist()"
   ]
  },
  {
   "cell_type": "code",
   "execution_count": null,
   "id": "e1d04c0b-8207-43c2-93f6-689692933b7a",
   "metadata": {},
   "outputs": [],
   "source": [
    "df[\"x\"] = df.tsne_2d.apply(lambda x: x[0])\n",
    "df[\"y\"] = df.tsne_2d.apply(lambda x: x[1])\n",
    "# df[\"color\"] = df.date.dt.year.apply(str)\n",
    "df[\"color\"] = df.date.dt.month_name()\n",
    "df[\"tooltip\"] = df.date.dt.to_period(\"D\").apply(str)\n",
    "import altair as alt\n",
    "from vega_datasets import data\n",
    "\n",
    "sample = df\n",
    "# sampe = df[:500]\n",
    "alt.Chart(sample).mark_point().encode(\n",
    "    x=\"x\", y=\"y\", color=alt.Color(\"color:N\"), tooltip=\"tooltip\"\n",
    ").properties(width=800, height=800).interactive()"
   ]
  },
  {
   "cell_type": "code",
   "execution_count": null,
   "id": "1cebe486-261b-4a89-bbdd-75783123fd7f",
   "metadata": {},
   "outputs": [],
   "source": [
    "df.date.dt.to_period(\"D\").apply(str)"
   ]
  },
  {
   "cell_type": "code",
   "execution_count": null,
   "id": "7705dce0-09f2-4647-a07c-8a510a794134",
   "metadata": {},
   "outputs": [],
   "source": [
    "df.tsne_2d"
   ]
  },
  {
   "cell_type": "code",
   "execution_count": null,
   "id": "eb38997a-29e7-48b7-acd3-ae9ec82214fb",
   "metadata": {},
   "outputs": [],
   "source": [
    "matrix"
   ]
  },
  {
   "cell_type": "code",
   "execution_count": null,
   "id": "a946e2ea-b217-4263-b699-05a35b3387a8",
   "metadata": {},
   "outputs": [],
   "source": []
  }
 ],
 "metadata": {
  "kernelspec": {
   "display_name": "Python 3 (ipykernel)",
   "language": "python",
   "name": "python3"
  },
  "language_info": {
   "codemirror_mode": {
    "name": "ipython",
    "version": 3
   },
   "file_extension": ".py",
   "mimetype": "text/x-python",
   "name": "python",
   "nbconvert_exporter": "python",
   "pygments_lexer": "ipython3",
   "version": "3.10.7"
  }
 },
 "nbformat": 4,
 "nbformat_minor": 5
}

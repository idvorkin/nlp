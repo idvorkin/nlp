{
 "cells": [
  {
   "cell_type": "code",
   "execution_count": null,
   "id": "9d0a3e84-20bd-47eb-8c7d-e5df4aa9511e",
   "metadata": {},
   "outputs": [],
   "source": [
    "import pandas as pd\n",
    "import os\n",
    "import numpy as np\n",
    "import sklearn as scikit\n",
    "from sklearn.metrics.pairwise import cosine_similarity\n",
    "from sklearn.manifold import TSNE\n",
    "import altair as alt\n",
    "from sklearn.decomposition import PCA\n",
    "\n",
    "\n",
    "# Ideas copied from 'Visualizing the embeddings in 2D'"
   ]
  },
  {
   "cell_type": "code",
   "execution_count": null,
   "id": "6e188ec5-cb6e-491d-a0cc-166cc08b691b",
   "metadata": {},
   "outputs": [],
   "source": [
    "df = pd.read_pickle(os.path.expanduser(\"~/gits/igor2/archive/2022-12-18.journal.gz\"))\n",
    "df.date = pd.DatetimeIndex(df.date)\n",
    "matrix = np.array(df.embeddings.to_list())"
   ]
  },
  {
   "cell_type": "code",
   "execution_count": null,
   "id": "a57636cc-85c1-4948-92b9-d1084cef7f97",
   "metadata": {},
   "outputs": [],
   "source": [
    "matrix"
   ]
  },
  {
   "cell_type": "code",
   "execution_count": null,
   "id": "084cbaa9-3271-46e7-8d98-c22f37431c0e",
   "metadata": {},
   "outputs": [],
   "source": [
    "# USE PCA to reduce dimensionality\n",
    "# Consider the other tool from 2D visualization)\n",
    "df[\"pca_3d\"] = PCA(n_components=3).fit_transform(matrix).tolist()\n",
    "df[\"pca_2d\"] = PCA(n_components=2).fit_transform(matrix).tolist()"
   ]
  },
  {
   "cell_type": "code",
   "execution_count": null,
   "id": "3c2138dd-c2a0-462a-bc37-5f1829c69d68",
   "metadata": {},
   "outputs": [],
   "source": [
    "def make_tsne(matrix, n):\n",
    "    # Create a t-SNE model and transform the data\n",
    "    tsne = TSNE(\n",
    "        n_components=n, perplexity=15, random_state=42, init=\"random\", learning_rate=200\n",
    "    )\n",
    "    vis_dims = tsne.fit_transform(matrix)\n",
    "    return vis_dims\n",
    "\n",
    "\n",
    "tsne = make_tsne(matrix, 2)"
   ]
  },
  {
   "cell_type": "code",
   "execution_count": null,
   "id": "5d0065fb-779f-4752-83f5-aef8d58588a1",
   "metadata": {},
   "outputs": [],
   "source": [
    "matrix[15].dtype"
   ]
  },
  {
   "cell_type": "code",
   "execution_count": null,
   "id": "86500032-583b-4fdc-aff0-05edbe88ef94",
   "metadata": {},
   "outputs": [],
   "source": [
    "df[\"tsne_2d\"] = tsne.tolist()"
   ]
  },
  {
   "cell_type": "code",
   "execution_count": null,
   "id": "1cebe486-261b-4a89-bbdd-75783123fd7f",
   "metadata": {},
   "outputs": [],
   "source": [
    "# https://www.kaggle.com/code/minc33/visualizing-high-dimensional-clusters/notebook\n",
    "\n",
    "from sklearn.cluster import MiniBatchKMeans,KMeans\n",
    "kmeans = KMeans(n_clusters=5).fit(matrix)\n",
    "df[\"cluster\"]  = kmeans.predict(matrix)"
   ]
  },
  {
   "cell_type": "code",
   "execution_count": null,
   "id": "e1d04c0b-8207-43c2-93f6-689692933b7a",
   "metadata": {},
   "outputs": [],
   "source": [
    "df_graph = pd.DataFrame() \n",
    "df_graph[\"x\"] = df.tsne_2d.apply(lambda x: x[0])\n",
    "df_graph[\"y\"] = df.tsne_2d.apply(lambda x: x[1])\n",
    "df[\"color\"] = df.date.dt.year.apply(str)\n",
    "#  df_graph[\"color\"] = df.Family\n",
    "df_graph[\"tooltip\"] = df.date.dt.to_period(\"D\").apply(str)\n",
    "\n",
    "import altair as alt\n",
    "from vega_datasets import data\n",
    "\n",
    "color_ = alt.Color(\"color:N\")\n",
    "tooltip=\"tooltip\"\n",
    "domain_ = [\"\",\"Amelia\",\"Zach \", \"Zach Amelia\"]\n",
    "range_ = ['grey', 'red', 'green', 'blue']\n",
    "# color_ = alt.Color('color', scale=alt.Scale(domain=domain_, range=range_))\n",
    "\n",
    "#sample = df\n",
    "# sampe = df[:500]\n",
    "alt.Chart(df_graph).mark_point().encode(\n",
    "    x=\"x\", y=\"y\", \n",
    "    color=color_,\n",
    "    tooltip=\"tooltip\"\n",
    ").properties(width=800, height=800).interactive()"
   ]
  },
  {
   "cell_type": "code",
   "execution_count": null,
   "id": "7705dce0-09f2-4647-a07c-8a510a794134",
   "metadata": {},
   "outputs": [],
   "source": [
    "row = df.iloc[3]\n",
    "len(row.embeddings)\n"
   ]
  },
  {
   "cell_type": "code",
   "execution_count": null,
   "id": "eb38997a-29e7-48b7-acd3-ae9ec82214fb",
   "metadata": {},
   "outputs": [],
   "source": [
    "df.date[2020:]"
   ]
  },
  {
   "cell_type": "code",
   "execution_count": null,
   "id": "a946e2ea-b217-4263-b699-05a35b3387a8",
   "metadata": {},
   "outputs": [],
   "source": [
    "df_graph[\"x\"] = df.tsne_2d[0]\n",
    "df_graph[\"y\"] = df.tsne_2d[1]\n",
    "df_graph[\"color\"]. = df.date.dt.month_name()\n",
    "df_graph[\"tooltip\"]. = df.date.dt.to_period(\"D\").apply(str)\n",
    "\n",
    "df_graph"
   ]
  },
  {
   "cell_type": "code",
   "execution_count": null,
   "id": "0737f2e2-79ef-4b2e-950a-8b72b8ee4fd7",
   "metadata": {},
   "outputs": [],
   "source": [
    "alt.Chart.data(df_graph).mark_point().encode(\n",
    "    x= \"x\"\n",
    "    y= \"y\"\n",
    "    color=\"color:N\"\n",
    "    tooltip=\"tooltip)"
   ]
  },
  {
   "cell_type": "code",
   "execution_count": null,
   "id": "ecbe07c0-0cc1-4aa3-8b34-49308b8e2b5c",
   "metadata": {},
   "outputs": [],
   "source": [
    "def family(s):\n",
    "    s = s.lower()\n",
    "    family = \"\"\n",
    "    if \"zach\" in s:\n",
    "        family+=\"Zach \" \n",
    "    if \"amelia\" in s:\n",
    "        family+=\"Amelia\" \n",
    "    return family\n",
    "df[\"Zach\"] = df.body.apply(lambda x:\"zach\" in x.lower())\n",
    "df[\"Amelia\"] = df.body.apply(lambda x:\"amelia\" in x.lower())\n",
    "df[\"Family\"] = df.body.apply(family)"
   ]
  },
  {
   "cell_type": "code",
   "execution_count": null,
   "id": "ed791df3-5868-4cd2-9d00-28de741f10f1",
   "metadata": {},
   "outputs": [],
   "source": [
    "family(\" the amelia zach\")\n"
   ]
  },
  {
   "cell_type": "code",
   "execution_count": null,
   "id": "ae4d4b66-8fcd-4ed0-aff8-e7085f31d771",
   "metadata": {},
   "outputs": [],
   "source": [
    "df.Zach"
   ]
  },
  {
   "cell_type": "code",
   "execution_count": null,
   "id": "b79b4390-3474-4d61-a21a-94f8fd270280",
   "metadata": {},
   "outputs": [],
   "source": [
    "df[df.Zach]"
   ]
  },
  {
   "cell_type": "code",
   "execution_count": null,
   "id": "b4e9bdc5-e440-4e16-a99e-176553c05b05",
   "metadata": {},
   "outputs": [],
   "source": [
    "# Find similar journal entries\n",
    "matrix\n",
    "from functools import par"
   ]
  },
  {
   "cell_type": "code",
   "execution_count": null,
   "id": "6421752f-f4fa-4d28-bc94-4981007180a6",
   "metadata": {},
   "outputs": [],
   "source": [
    "f = os.path.expanduser(\"~/gits/igor2/archive/2022-12-18.journal.gz\")\n",
    "with open(f, \"rb\") as file:\n",
    "    encrypted_data = file.read(file)\n",
    "    decrypted_data = f.decrypt(encrypted_data)\n",
    "    vectorizer = p.loads(decrypted_data)\n"
   ]
  },
  {
   "cell_type": "code",
   "execution_count": null,
   "id": "e637b413-4362-444f-abbd-6e362ca11345",
   "metadata": {},
   "outputs": [],
   "source": [
    "import base64\n",
    "import os\n",
    "from cryptography.fernet import Fernet\n",
    "from cryptography.hazmat.primitives import hashes\n",
    "from cryptography.hazmat.primitives.kdf.pbkdf2 import PBKDF2HMAC\n",
    "from cryptography.fernet import Fernet\n",
    "import base64\n",
    "import pickle\n",
    "import io\n",
    "\n",
    "def make_crypto(password):\n",
    "    salt = b'asdf234avzxc#$!asfb'\n",
    "    iterations = 50*1000*1000\n",
    "    kdf = PBKDF2HMAC(\n",
    "        algorithm=hashes.SHA256(),\n",
    "        length=32,\n",
    "        salt=salt,\n",
    "        iterations=iterations\n",
    "    )\n",
    "    key = base64.urlsafe_b64encode(kdf.derive(password))\n",
    "    return Fernet(key)\n",
    "\n",
    "def write_encrypt(crypto, obj, path): \n",
    "    plain_text = io.BytesIO()\n",
    "    pickle.dump(obj, plain_text) \n",
    "    plain_text.seek(0) # reset read pointer\n",
    "    cipher_text = crypto.encrypt(plain_text.read()) \n",
    "    open(path,\"wb\").write(cipher_text)\n",
    "    \n",
    "\n",
    "def read_decrypt(crytpo, path):\n",
    "    cipher_text = open(path,\"rb\")\n",
    "    pickled = crypto.decrypt(cipher_text.read())\n",
    "    pickled_file = io.BytesIO(pickled)\n",
    "    obj = pickle.load(pickled_file)\n",
    "    return obj\n"
   ]
  },
  {
   "cell_type": "code",
   "execution_count": null,
   "id": "2ac3cd85-3a75-4752-81bc-81fab46b274a",
   "metadata": {},
   "outputs": [],
   "source": [
    "crypto = make_crypto(b\"Hello\")\n",
    "file_path =  os.path.expanduser(\"~/tmp/f\")\n",
    "obj = \"Test Me\"\n",
    "write_encrypt(crypto,obj, file_path) \n",
    "# obj2 = read_decrypt(crypto, file_path) \n",
    "print(obj)\n",
    "print(obj2)\n"
   ]
  },
  {
   "cell_type": "code",
   "execution_count": null,
   "id": "5d0e8751-4cbe-4079-938e-1aea43beb308",
   "metadata": {},
   "outputs": [],
   "source": []
  },
  {
   "cell_type": "code",
   "execution_count": null,
   "id": "cd564e45-c5d3-46d8-8d6d-5180baf2d69d",
   "metadata": {},
   "outputs": [],
   "source": [
    "encrypt.read()"
   ]
  },
  {
   "cell_type": "code",
   "execution_count": null,
   "id": "977c5130-2413-4d7d-a871-df44e2b492da",
   "metadata": {},
   "outputs": [],
   "source": [
    "df"
   ]
  },
  {
   "cell_type": "code",
   "execution_count": null,
   "id": "806a2919-c445-473a-948b-f9f19028aafc",
   "metadata": {},
   "outputs": [],
   "source": []
  }
 ],
 "metadata": {
  "kernelspec": {
   "display_name": "Python 3 (ipykernel)",
   "language": "python",
   "name": "python3"
  },
  "language_info": {
   "codemirror_mode": {
    "name": "ipython",
    "version": 3
   },
   "file_extension": ".py",
   "mimetype": "text/x-python",
   "name": "python",
   "nbconvert_exporter": "python",
   "pygments_lexer": "ipython3",
   "version": "3.10.7"
  }
 },
 "nbformat": 4,
 "nbformat_minor": 5
}

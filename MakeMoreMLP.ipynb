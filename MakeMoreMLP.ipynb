{
 "cells": [
  {
   "cell_type": "code",
   "execution_count": 94,
   "id": "1506c74f-c3ce-490d-919b-7e2c3f90af0e",
   "metadata": {
    "tags": []
   },
   "outputs": [],
   "source": [
    "# Following along with\n",
    "# https://www.youtube.com/watch?v=TCH_1BHY58I&list=PLAqhIrjkxbuWI23v9cThsA9GvCAUhRvKZ&index=3\n",
    "# https://github.com/karpathy/nn-zero-to-hero/blob/master/lectures/makemore/makemore_part2_mlp.ipynb\n",
    "import torch\n",
    "import random\n",
    "\n",
    "# for making figures\n",
    "%matplotlib inline"
   ]
  },
  {
   "cell_type": "code",
   "execution_count": 95,
   "id": "4751fe67-8bdd-490c-a2f8-79e16cb765c2",
   "metadata": {
    "tags": []
   },
   "outputs": [],
   "source": [
    "# read in all the words - helps us build words\n",
    "all_words = open(\"words.txt\", \"r\").read().splitlines()\n",
    "MAX_WORDS = min(10_000, len(all_words))\n",
    "words = random.sample(all_words, MAX_WORDS)"
   ]
  },
  {
   "cell_type": "code",
   "execution_count": 96,
   "id": "f5121f4f-a0b8-4ff1-b2b2-399e2ef9872e",
   "metadata": {
    "tags": []
   },
   "outputs": [
    {
     "data": {
      "text/plain": [
       "['florencia',\n",
       " 'draysen',\n",
       " 'simrin',\n",
       " 'yasna',\n",
       " 'lathan',\n",
       " 'lilymarie',\n",
       " 'maryah',\n",
       " 'ara',\n",
       " 'pheonix',\n",
       " 'muir',\n",
       " 'aubriegh',\n",
       " 'maryruth',\n",
       " 'feroz',\n",
       " 'abdiel',\n",
       " 'anabiya',\n",
       " 'kristin',\n",
       " 'dashon',\n",
       " 'harlei',\n",
       " 'valery',\n",
       " 'janani']"
      ]
     },
     "execution_count": 96,
     "metadata": {},
     "output_type": "execute_result"
    }
   ],
   "source": [
    "random.seed(6_6_1978)  # pin the RNG\n",
    "random.sample(all_words, 20)"
   ]
  },
  {
   "cell_type": "code",
   "execution_count": 97,
   "id": "b21c8106-b83b-48c0-823a-0c8948934281",
   "metadata": {
    "tags": []
   },
   "outputs": [],
   "source": [
    "# build the vocabulary of characters and mappings to/from integers\n",
    "chars = sorted(list(set(\"\".join(words))))\n",
    "stoi = {s: i + 1 for i, s in enumerate(chars)}\n",
    "stoi[\".\"] = 0\n",
    "itos = {i: s for s, i in stoi.items()}\n",
    "\n",
    "\n",
    "def string_to_index(s):\n",
    "    return stoi[s]\n",
    "\n",
    "\n",
    "def index_to_string(s):\n",
    "    return itos[s]\n",
    "\n",
    "\n",
    "def to_word(t):\n",
    "    return \"\".join([itos[i.item()] for i in t])"
   ]
  },
  {
   "cell_type": "code",
   "execution_count": 98,
   "id": "f01aaa4c-588b-468d-8814-3ef0644117a9",
   "metadata": {
    "tags": []
   },
   "outputs": [],
   "source": [
    "# build the dataset\n",
    "\n",
    "block_size = (\n",
    "    4  # context length: how many characters do we take to predict the next one?\n",
    ")\n",
    "X, Y = [], []\n",
    "for word in words[:]:\n",
    "    # print(word)\n",
    "    context = [string_to_index(\".\")] * block_size  # we start with '...'\n",
    "    for char in word + \".\":\n",
    "        ix = string_to_index(char)\n",
    "        X.append(context)\n",
    "        Y.append(ix)\n",
    "        # print(''.join(itos[i] for i in context), '--->', itos[ix])\n",
    "        context = context[1:] + [ix]  # crop and append\n",
    "\n",
    "X = torch.tensor(X)\n",
    "Y = torch.tensor(Y)\n",
    "inputs, expected_output = X, Y"
   ]
  },
  {
   "cell_type": "code",
   "execution_count": 99,
   "id": "21f66f00-55a9-4e3e-b485-3a050c66547f",
   "metadata": {
    "tags": []
   },
   "outputs": [
    {
     "name": "stdout",
     "output_type": "stream",
     "text": [
      "....=>k == tensor([0, 0, 0, 0]), 11 \n",
      "heod=>o == tensor([ 8,  5, 15,  4]), 15 \n",
      "alys=>s == tensor([ 1, 12, 25, 19]), 19 \n",
      "kash=>m == tensor([11,  1, 19,  8]), 13 \n",
      ".ale=>i == tensor([ 0,  1, 12,  5]), 9 \n",
      "jado=>r == tensor([10,  1,  4, 15]), 18 \n",
      "mane=>h == tensor([13,  1, 14,  5]), 8 \n",
      "elod=>i == tensor([ 5, 12, 15,  4]), 9 \n",
      "..ra=>r == tensor([ 0,  0, 18,  1]), 18 \n",
      "..ma=>s == tensor([ 0,  0, 13,  1]), 19 \n",
      "...t=>y == tensor([ 0,  0,  0, 20]), 25 \n",
      "tanv=>i == tensor([20,  1, 14, 22]), 9 \n",
      "...s=>h == tensor([ 0,  0,  0, 19]), 8 \n",
      "iele=>n == tensor([ 9,  5, 12,  5]), 14 \n",
      ".ari=>s == tensor([ 0,  1, 18,  9]), 19 \n",
      "...e=>v == tensor([0, 0, 0, 5]), 22 \n",
      "arbo=>r == tensor([ 1, 18,  2, 15]), 18 \n",
      ".joz=>i == tensor([ 0, 10, 15, 26]), 9 \n",
      "....=>z == tensor([0, 0, 0, 0]), 26 \n",
      "....=>m == tensor([0, 0, 0, 0]), 13 \n"
     ]
    }
   ],
   "source": [
    "def debug_samples():\n",
    "    for inp, out in random.sample(list(zip(inputs, expected_output)), 20):\n",
    "        print(f\"{to_word(inp)}=>{index_to_string(out.item())} == {inp}, {out} \")\n",
    "\n",
    "\n",
    "debug_samples()"
   ]
  },
  {
   "cell_type": "code",
   "execution_count": null,
   "id": "fe290ea9-6381-47ed-8fbf-aeda24754128",
   "metadata": {
    "tags": []
   },
   "outputs": [],
   "source": []
  },
  {
   "cell_type": "code",
   "execution_count": null,
   "id": "f7496a55-4e83-454f-810f-9c587d44a53c",
   "metadata": {},
   "outputs": [],
   "source": []
  }
 ],
 "metadata": {
  "kernelspec": {
   "display_name": "Python 3 (ipykernel)",
   "language": "python",
   "name": "python3"
  },
  "language_info": {
   "codemirror_mode": {
    "name": "ipython",
    "version": 3
   },
   "file_extension": ".py",
   "mimetype": "text/x-python",
   "name": "python",
   "nbconvert_exporter": "python",
   "pygments_lexer": "ipython3",
   "version": "3.12.3"
  }
 },
 "nbformat": 4,
 "nbformat_minor": 5
}
